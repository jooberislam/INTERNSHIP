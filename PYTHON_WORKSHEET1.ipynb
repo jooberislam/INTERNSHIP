{
 "cells": [
  {
   "cell_type": "code",
   "execution_count": 1,
   "id": "721749a7",
   "metadata": {},
   "outputs": [
    {
     "name": "stdout",
     "output_type": "stream",
     "text": [
      "Enter a number:5\n",
      "the factorial of 5 is 120\n"
     ]
    }
   ],
   "source": [
    "#find the factorial of a number\n",
    "\n",
    "num = int(input(\"Enter a number:\"))\n",
    "factorial = 1 \n",
    "if num<0:\n",
    "    print(\"Factorial doesnotnot esist\")\n",
    "elif num == 0:\n",
    "    print(\"The factorial of 0 is 1\")\n",
    "else:\n",
    "    for i in range (1,num+1):\n",
    "        factorial = factorial*i\n",
    "    print('the factorial of',num, 'is', factorial)"
   ]
  },
  {
   "cell_type": "code",
   "execution_count": 2,
   "id": "52b4ba70",
   "metadata": {
    "scrolled": true
   },
   "outputs": [
    {
     "name": "stdout",
     "output_type": "stream",
     "text": [
      "Enter a number:25\n",
      "COMPOSITE\n"
     ]
    }
   ],
   "source": [
    "#finding wether a number is prime or composite\n",
    "\n",
    "num = int(input(\"Enter a number:\"))\n",
    "for i in range(2,num):\n",
    "    if num%i == 0:\n",
    "        print(\"COMPOSITE\")\n",
    "        break\n",
    "else:\n",
    "    print(\"PRIME\")"
   ]
  },
  {
   "cell_type": "code",
   "execution_count": 4,
   "id": "94b9ecc6",
   "metadata": {
    "scrolled": true
   },
   "outputs": [
    {
     "name": "stdout",
     "output_type": "stream",
     "text": [
      "Please enter a string : LEVEL\n",
      "This is a palindrome string\n"
     ]
    }
   ],
   "source": [
    "#CHEACK WHEATHER AGIVEN STRIN IS PALINDROME OR NOT\n",
    "\n",
    "string = input(\"Please enter a string : \")\n",
    "\n",
    "if (string==string[::-1]):\n",
    "    print(\"This is a palindrome string\")\n",
    "else:\n",
    "    print(\"This is not a palindrome string\")"
   ]
  },
  {
   "cell_type": "code",
   "execution_count": 5,
   "id": "889c34e3",
   "metadata": {},
   "outputs": [],
   "source": [
    "#finding third side from two given sides.\n",
    "\n",
    "def right_angle_tringle():\n",
    "    a=int(input('the lenght of one side = '))\n",
    "    b=int(input('the lenght of other side =  '))\n",
    "    c=int((a**2+b**2)**0.5)\n",
    "    print('the value of third side is = ',c)"
   ]
  },
  {
   "cell_type": "code",
   "execution_count": 6,
   "id": "23534059",
   "metadata": {},
   "outputs": [
    {
     "name": "stdout",
     "output_type": "stream",
     "text": [
      "the lenght of one side = 3\n",
      "the lenght of other side =  4\n",
      "the value of third side is =  5\n"
     ]
    }
   ],
   "source": [
    "right_angle_tringle()"
   ]
  },
  {
   "cell_type": "code",
   "execution_count": 7,
   "id": "9228425f",
   "metadata": {},
   "outputs": [
    {
     "name": "stdout",
     "output_type": "stream",
     "text": [
      "Frequency of apple is: 5\n",
      "Frequency of mango is: 2\n",
      "Frequency of banana is: 1\n",
      "Frequency of guava is: 1\n"
     ]
    }
   ],
   "source": [
    "#print the frequency of each character preesent in a string\n",
    "\n",
    "def freq(str):\n",
    "    str=str.split()\n",
    "    str2 = []\n",
    "    \n",
    "    for i in str:\n",
    "        if i not in str2:\n",
    "            str2.append(i)\n",
    "    \n",
    "    for i in range(0,len(str2)):\n",
    "        print('Frequency of', str2[i], 'is:', str.count(str2[i]))\n",
    "        \n",
    "def main():\n",
    "    str = \"apple mango apple apple apple mango banana apple guava\"\n",
    "    freq(str)\n",
    "    \n",
    "if __name__==\"__main__\":\n",
    "    main()"
   ]
  }
 ],
 "metadata": {
  "kernelspec": {
   "display_name": "Python 3",
   "language": "python",
   "name": "python3"
  },
  "language_info": {
   "codemirror_mode": {
    "name": "ipython",
    "version": 3
   },
   "file_extension": ".py",
   "mimetype": "text/x-python",
   "name": "python",
   "nbconvert_exporter": "python",
   "pygments_lexer": "ipython3",
   "version": "3.8.8"
  }
 },
 "nbformat": 4,
 "nbformat_minor": 5
}
