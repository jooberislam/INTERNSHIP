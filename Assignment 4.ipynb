{
 "cells": [
  {
   "cell_type": "code",
   "execution_count": 80,
   "id": "975b21a6",
   "metadata": {},
   "outputs": [],
   "source": [
    "import selenium\n",
    "import pandas as pd\n",
    "import time\n",
    "from bs4 import BeautifulSoup"
   ]
  },
  {
   "cell_type": "code",
   "execution_count": 81,
   "id": "e4082794",
   "metadata": {},
   "outputs": [],
   "source": [
    "from selenium import webdriver"
   ]
  },
  {
   "cell_type": "code",
   "execution_count": 82,
   "id": "3e294930",
   "metadata": {},
   "outputs": [],
   "source": [
    "from selenium.common.exceptions import StaleElementReferenceException"
   ]
  },
  {
   "cell_type": "code",
   "execution_count": 83,
   "id": "5d826510",
   "metadata": {},
   "outputs": [],
   "source": [
    "from selenium.common.exceptions import NoSuchElementException"
   ]
  },
  {
   "cell_type": "code",
   "execution_count": 84,
   "id": "3638c719",
   "metadata": {},
   "outputs": [],
   "source": [
    "from selenium.common.exceptions import ElementNotInteractableException"
   ]
  },
  {
   "cell_type": "code",
   "execution_count": 85,
   "id": "83c6ca5e",
   "metadata": {},
   "outputs": [],
   "source": [
    "import requests"
   ]
  },
  {
   "cell_type": "code",
   "execution_count": 86,
   "id": "30bd688b",
   "metadata": {},
   "outputs": [],
   "source": [
    "import re"
   ]
  },
  {
   "cell_type": "code",
   "execution_count": 87,
   "id": "2c5d7532",
   "metadata": {
    "scrolled": true
   },
   "outputs": [
    {
     "name": "stderr",
     "output_type": "stream",
     "text": [
      "<ipython-input-87-e5264c7a3582>:1: DeprecationWarning: executable_path has been deprecated, please pass in a Service object\n",
      "  driver = webdriver.Chrome(r\"E:\\chromedriver_win32/chromedriver.exe\")\n"
     ]
    }
   ],
   "source": [
    "driver = webdriver.Chrome(r\"E:\\chromedriver_win32/chromedriver.exe\")"
   ]
  },
  {
   "cell_type": "code",
   "execution_count": 88,
   "id": "438ee8cf",
   "metadata": {},
   "outputs": [],
   "source": [
    "from selenium import webdriver\n",
    "from selenium.webdriver.support.ui import WebDriverWait\n",
    "from selenium.webdriver.support import expected_conditions as EC\n",
    "from selenium.webdriver.common.by import By"
   ]
  },
  {
   "cell_type": "markdown",
   "id": "4d5134a3",
   "metadata": {},
   "source": [
    "Q1: Scrape the details of most viewed videos on YouTube from Wikipedia.\n",
    "Url = https://en.wikipedia.org/wiki/List_of_most-viewed_YouTube_videos\n",
    "You need to find following details:\n",
    "A) Rank\n",
    "B) Name\n",
    "C) Artist\n",
    "D) Upload date\n",
    "E) Views"
   ]
  },
  {
   "cell_type": "code",
   "execution_count": 89,
   "id": "2e8c6ea6",
   "metadata": {},
   "outputs": [],
   "source": [
    "driver.get('https://en.wikipedia.org/wiki/List_of_most-viewed_YouTube_videos')"
   ]
  },
  {
   "cell_type": "code",
   "execution_count": 91,
   "id": "cd54bc89",
   "metadata": {},
   "outputs": [],
   "source": [
    "time.sleep(4)\n",
    "Rank=[]\n",
    "Name=[]\n",
    "Artist=[]\n",
    "upload_date=[]\n",
    "Views=[]"
   ]
  },
  {
   "cell_type": "code",
   "execution_count": 92,
   "id": "facaeaa3",
   "metadata": {},
   "outputs": [
    {
     "name": "stderr",
     "output_type": "stream",
     "text": [
      "<ipython-input-92-0eae6d2762f8>:1: DeprecationWarning: find_elements_by_* commands are deprecated. Please use find_elements() instead\n",
      "  Rank=driver.find_elements_by_xpath(\"//a[@class='headerSort']\")\n"
     ]
    },
    {
     "data": {
      "text/plain": [
       "[]"
      ]
     },
     "execution_count": 92,
     "metadata": {},
     "output_type": "execute_result"
    }
   ],
   "source": [
    "Rank=driver.find_elements_by_xpath(\"//a[@class='headerSort']\")\n",
    "Rank[0:10]"
   ]
  },
  {
   "cell_type": "code",
   "execution_count": 93,
   "id": "65178a94",
   "metadata": {},
   "outputs": [
    {
     "name": "stderr",
     "output_type": "stream",
     "text": [
      "<ipython-input-93-8abb2eac3642>:1: DeprecationWarning: find_elements_by_* commands are deprecated. Please use find_elements() instead\n",
      "  Rank=driver.find_elements_by_xpath(\"//a[@class='headerSort']\")\n"
     ]
    }
   ],
   "source": [
    "Rank=driver.find_elements_by_xpath(\"//a[@class='headerSort']\")\n",
    "for i in Rank:\n",
    "    if i.text is None :\n",
    "        Rank.append(\"--\") \n",
    "    else:\n",
    "        Rank.append(i.text)\n",
    "Rank[0:10]\n",
    "time.sleep(4)"
   ]
  },
  {
   "cell_type": "code",
   "execution_count": 94,
   "id": "a5f8b9cd",
   "metadata": {
    "scrolled": true
   },
   "outputs": [
    {
     "name": "stderr",
     "output_type": "stream",
     "text": [
      "<ipython-input-94-61d712357d65>:1: DeprecationWarning: find_elements_by_* commands are deprecated. Please use find_elements() instead\n",
      "  Name=driver.find_elements_by_xpath(\"//a[@class='mw-redirect']\")\n"
     ]
    },
    {
     "ename": "AttributeError",
     "evalue": "'str' object has no attribute 'text'",
     "output_type": "error",
     "traceback": [
      "\u001b[1;31m---------------------------------------------------------------------------\u001b[0m",
      "\u001b[1;31mAttributeError\u001b[0m                            Traceback (most recent call last)",
      "\u001b[1;32m<ipython-input-94-61d712357d65>\u001b[0m in \u001b[0;36m<module>\u001b[1;34m\u001b[0m\n\u001b[0;32m      1\u001b[0m \u001b[0mName\u001b[0m\u001b[1;33m=\u001b[0m\u001b[0mdriver\u001b[0m\u001b[1;33m.\u001b[0m\u001b[0mfind_elements_by_xpath\u001b[0m\u001b[1;33m(\u001b[0m\u001b[1;34m\"//a[@class='mw-redirect']\"\u001b[0m\u001b[1;33m)\u001b[0m\u001b[1;33m\u001b[0m\u001b[1;33m\u001b[0m\u001b[0m\n\u001b[0;32m      2\u001b[0m \u001b[1;32mfor\u001b[0m \u001b[0mi\u001b[0m \u001b[1;32min\u001b[0m \u001b[0mName\u001b[0m\u001b[1;33m:\u001b[0m\u001b[1;33m\u001b[0m\u001b[1;33m\u001b[0m\u001b[0m\n\u001b[1;32m----> 3\u001b[1;33m     \u001b[1;32mif\u001b[0m \u001b[0mi\u001b[0m\u001b[1;33m.\u001b[0m\u001b[0mtext\u001b[0m \u001b[1;32mis\u001b[0m \u001b[1;32mNone\u001b[0m \u001b[1;33m:\u001b[0m\u001b[1;33m\u001b[0m\u001b[1;33m\u001b[0m\u001b[0m\n\u001b[0m\u001b[0;32m      4\u001b[0m         \u001b[0mName\u001b[0m\u001b[1;33m.\u001b[0m\u001b[0mappend\u001b[0m\u001b[1;33m(\u001b[0m\u001b[1;34m\"--\"\u001b[0m\u001b[1;33m)\u001b[0m\u001b[1;33m\u001b[0m\u001b[1;33m\u001b[0m\u001b[0m\n\u001b[0;32m      5\u001b[0m     \u001b[1;32melse\u001b[0m\u001b[1;33m:\u001b[0m\u001b[1;33m\u001b[0m\u001b[1;33m\u001b[0m\u001b[0m\n",
      "\u001b[1;31mAttributeError\u001b[0m: 'str' object has no attribute 'text'"
     ]
    }
   ],
   "source": [
    "\n",
    "Name=driver.find_elements_by_xpath(\"//a[@class='mw-redirect']\")\n",
    "for i in Name:\n",
    "    if i.text is None :\n",
    "        Name.append(\"--\") \n",
    "    else:\n",
    "        Name.append(i.text)\n",
    "Name[0:10]\n",
    "time.sleep(4)"
   ]
  },
  {
   "cell_type": "code",
   "execution_count": 95,
   "id": "8b75905c",
   "metadata": {},
   "outputs": [
    {
     "name": "stderr",
     "output_type": "stream",
     "text": [
      "<ipython-input-95-bc429c5171e8>:1: DeprecationWarning: find_elements_by_* commands are deprecated. Please use find_elements() instead\n",
      "  Artist=driver.find_elements_by_xpath(\"//a[@class='Pinkfong']\")\n"
     ]
    }
   ],
   "source": [
    "Artist=driver.find_elements_by_xpath(\"//a[@class='Pinkfong']\")\n",
    "for i in Artist:\n",
    "    if i.text is None :\n",
    "        Artist.append(\"--\") \n",
    "    else:\n",
    "        Artist.append(i.text)\n",
    "Artist[0:10]\n",
    "time.sleep(4)"
   ]
  },
  {
   "cell_type": "code",
   "execution_count": 96,
   "id": "421e5bd0",
   "metadata": {},
   "outputs": [
    {
     "name": "stderr",
     "output_type": "stream",
     "text": [
      "<ipython-input-96-c6fce5b011be>:1: DeprecationWarning: find_elements_by_* commands are deprecated. Please use find_elements() instead\n",
      "  upload_date=driver.find_elements_by_xpath(\"//a[@class='June 17, 2016']\")\n"
     ]
    }
   ],
   "source": [
    "upload_date=driver.find_elements_by_xpath(\"//a[@class='June 17, 2016']\")\n",
    "for i in upload_date:\n",
    "    if i.text is None :\n",
    "        upload_date.append(\"--\") \n",
    "    else:\n",
    "        upload_date.append(i.text)\n",
    "upload_date[0:10]\n",
    "time.sleep(4)"
   ]
  },
  {
   "cell_type": "code",
   "execution_count": 97,
   "id": "0f53949d",
   "metadata": {},
   "outputs": [
    {
     "name": "stderr",
     "output_type": "stream",
     "text": [
      "<ipython-input-97-760130330690>:1: DeprecationWarning: find_elements_by_* commands are deprecated. Please use find_elements() instead\n",
      "  Views=driver.find_elements_by_xpath(\"//a[@class='9.89']\")\n"
     ]
    }
   ],
   "source": [
    "Views=driver.find_elements_by_xpath(\"//a[@class='9.89']\")\n",
    "for i in Views:\n",
    "    if i.text is None :\n",
    "        Views.append(\"--\") \n",
    "    else:\n",
    "        Views.append(i.text)\n",
    "Views[0:10]\n",
    "time.sleep(4)"
   ]
  },
  {
   "cell_type": "code",
   "execution_count": 98,
   "id": "cd8214ca",
   "metadata": {},
   "outputs": [
    {
     "ename": "ValueError",
     "evalue": "arrays must all be same length",
     "output_type": "error",
     "traceback": [
      "\u001b[1;31m---------------------------------------------------------------------------\u001b[0m",
      "\u001b[1;31mValueError\u001b[0m                                Traceback (most recent call last)",
      "\u001b[1;32m<ipython-input-98-1135a417ead4>\u001b[0m in \u001b[0;36m<module>\u001b[1;34m\u001b[0m\n\u001b[1;32m----> 1\u001b[1;33m df=pd.DataFrame({\"Rank\":Rank[0:10],\"Name\":Name[0:10],\"Artist\":Artist[0:10],\n\u001b[0m\u001b[0;32m      2\u001b[0m                 \"upload_date\":upload_date[0:10],\"Views\":Views[0:10]})\n\u001b[0;32m      3\u001b[0m \u001b[0mdf\u001b[0m\u001b[1;33m\u001b[0m\u001b[1;33m\u001b[0m\u001b[0m\n",
      "\u001b[1;32mC:\\ProgramData\\Anaconda3\\lib\\site-packages\\pandas\\core\\frame.py\u001b[0m in \u001b[0;36m__init__\u001b[1;34m(self, data, index, columns, dtype, copy)\u001b[0m\n\u001b[0;32m    527\u001b[0m \u001b[1;33m\u001b[0m\u001b[0m\n\u001b[0;32m    528\u001b[0m         \u001b[1;32melif\u001b[0m \u001b[0misinstance\u001b[0m\u001b[1;33m(\u001b[0m\u001b[0mdata\u001b[0m\u001b[1;33m,\u001b[0m \u001b[0mdict\u001b[0m\u001b[1;33m)\u001b[0m\u001b[1;33m:\u001b[0m\u001b[1;33m\u001b[0m\u001b[1;33m\u001b[0m\u001b[0m\n\u001b[1;32m--> 529\u001b[1;33m             \u001b[0mmgr\u001b[0m \u001b[1;33m=\u001b[0m \u001b[0minit_dict\u001b[0m\u001b[1;33m(\u001b[0m\u001b[0mdata\u001b[0m\u001b[1;33m,\u001b[0m \u001b[0mindex\u001b[0m\u001b[1;33m,\u001b[0m \u001b[0mcolumns\u001b[0m\u001b[1;33m,\u001b[0m \u001b[0mdtype\u001b[0m\u001b[1;33m=\u001b[0m\u001b[0mdtype\u001b[0m\u001b[1;33m)\u001b[0m\u001b[1;33m\u001b[0m\u001b[1;33m\u001b[0m\u001b[0m\n\u001b[0m\u001b[0;32m    530\u001b[0m         \u001b[1;32melif\u001b[0m \u001b[0misinstance\u001b[0m\u001b[1;33m(\u001b[0m\u001b[0mdata\u001b[0m\u001b[1;33m,\u001b[0m \u001b[0mma\u001b[0m\u001b[1;33m.\u001b[0m\u001b[0mMaskedArray\u001b[0m\u001b[1;33m)\u001b[0m\u001b[1;33m:\u001b[0m\u001b[1;33m\u001b[0m\u001b[1;33m\u001b[0m\u001b[0m\n\u001b[0;32m    531\u001b[0m             \u001b[1;32mimport\u001b[0m \u001b[0mnumpy\u001b[0m\u001b[1;33m.\u001b[0m\u001b[0mma\u001b[0m\u001b[1;33m.\u001b[0m\u001b[0mmrecords\u001b[0m \u001b[1;32mas\u001b[0m \u001b[0mmrecords\u001b[0m\u001b[1;33m\u001b[0m\u001b[1;33m\u001b[0m\u001b[0m\n",
      "\u001b[1;32mC:\\ProgramData\\Anaconda3\\lib\\site-packages\\pandas\\core\\internals\\construction.py\u001b[0m in \u001b[0;36minit_dict\u001b[1;34m(data, index, columns, dtype)\u001b[0m\n\u001b[0;32m    285\u001b[0m             \u001b[0marr\u001b[0m \u001b[1;32mif\u001b[0m \u001b[1;32mnot\u001b[0m \u001b[0mis_datetime64tz_dtype\u001b[0m\u001b[1;33m(\u001b[0m\u001b[0marr\u001b[0m\u001b[1;33m)\u001b[0m \u001b[1;32melse\u001b[0m \u001b[0marr\u001b[0m\u001b[1;33m.\u001b[0m\u001b[0mcopy\u001b[0m\u001b[1;33m(\u001b[0m\u001b[1;33m)\u001b[0m \u001b[1;32mfor\u001b[0m \u001b[0marr\u001b[0m \u001b[1;32min\u001b[0m \u001b[0marrays\u001b[0m\u001b[1;33m\u001b[0m\u001b[1;33m\u001b[0m\u001b[0m\n\u001b[0;32m    286\u001b[0m         ]\n\u001b[1;32m--> 287\u001b[1;33m     \u001b[1;32mreturn\u001b[0m \u001b[0marrays_to_mgr\u001b[0m\u001b[1;33m(\u001b[0m\u001b[0marrays\u001b[0m\u001b[1;33m,\u001b[0m \u001b[0mdata_names\u001b[0m\u001b[1;33m,\u001b[0m \u001b[0mindex\u001b[0m\u001b[1;33m,\u001b[0m \u001b[0mcolumns\u001b[0m\u001b[1;33m,\u001b[0m \u001b[0mdtype\u001b[0m\u001b[1;33m=\u001b[0m\u001b[0mdtype\u001b[0m\u001b[1;33m)\u001b[0m\u001b[1;33m\u001b[0m\u001b[1;33m\u001b[0m\u001b[0m\n\u001b[0m\u001b[0;32m    288\u001b[0m \u001b[1;33m\u001b[0m\u001b[0m\n\u001b[0;32m    289\u001b[0m \u001b[1;33m\u001b[0m\u001b[0m\n",
      "\u001b[1;32mC:\\ProgramData\\Anaconda3\\lib\\site-packages\\pandas\\core\\internals\\construction.py\u001b[0m in \u001b[0;36marrays_to_mgr\u001b[1;34m(arrays, arr_names, index, columns, dtype, verify_integrity)\u001b[0m\n\u001b[0;32m     78\u001b[0m         \u001b[1;31m# figure out the index, if necessary\u001b[0m\u001b[1;33m\u001b[0m\u001b[1;33m\u001b[0m\u001b[1;33m\u001b[0m\u001b[0m\n\u001b[0;32m     79\u001b[0m         \u001b[1;32mif\u001b[0m \u001b[0mindex\u001b[0m \u001b[1;32mis\u001b[0m \u001b[1;32mNone\u001b[0m\u001b[1;33m:\u001b[0m\u001b[1;33m\u001b[0m\u001b[1;33m\u001b[0m\u001b[0m\n\u001b[1;32m---> 80\u001b[1;33m             \u001b[0mindex\u001b[0m \u001b[1;33m=\u001b[0m \u001b[0mextract_index\u001b[0m\u001b[1;33m(\u001b[0m\u001b[0marrays\u001b[0m\u001b[1;33m)\u001b[0m\u001b[1;33m\u001b[0m\u001b[1;33m\u001b[0m\u001b[0m\n\u001b[0m\u001b[0;32m     81\u001b[0m         \u001b[1;32melse\u001b[0m\u001b[1;33m:\u001b[0m\u001b[1;33m\u001b[0m\u001b[1;33m\u001b[0m\u001b[0m\n\u001b[0;32m     82\u001b[0m             \u001b[0mindex\u001b[0m \u001b[1;33m=\u001b[0m \u001b[0mensure_index\u001b[0m\u001b[1;33m(\u001b[0m\u001b[0mindex\u001b[0m\u001b[1;33m)\u001b[0m\u001b[1;33m\u001b[0m\u001b[1;33m\u001b[0m\u001b[0m\n",
      "\u001b[1;32mC:\\ProgramData\\Anaconda3\\lib\\site-packages\\pandas\\core\\internals\\construction.py\u001b[0m in \u001b[0;36mextract_index\u001b[1;34m(data)\u001b[0m\n\u001b[0;32m    399\u001b[0m             \u001b[0mlengths\u001b[0m \u001b[1;33m=\u001b[0m \u001b[0mlist\u001b[0m\u001b[1;33m(\u001b[0m\u001b[0mset\u001b[0m\u001b[1;33m(\u001b[0m\u001b[0mraw_lengths\u001b[0m\u001b[1;33m)\u001b[0m\u001b[1;33m)\u001b[0m\u001b[1;33m\u001b[0m\u001b[1;33m\u001b[0m\u001b[0m\n\u001b[0;32m    400\u001b[0m             \u001b[1;32mif\u001b[0m \u001b[0mlen\u001b[0m\u001b[1;33m(\u001b[0m\u001b[0mlengths\u001b[0m\u001b[1;33m)\u001b[0m \u001b[1;33m>\u001b[0m \u001b[1;36m1\u001b[0m\u001b[1;33m:\u001b[0m\u001b[1;33m\u001b[0m\u001b[1;33m\u001b[0m\u001b[0m\n\u001b[1;32m--> 401\u001b[1;33m                 \u001b[1;32mraise\u001b[0m \u001b[0mValueError\u001b[0m\u001b[1;33m(\u001b[0m\u001b[1;34m\"arrays must all be same length\"\u001b[0m\u001b[1;33m)\u001b[0m\u001b[1;33m\u001b[0m\u001b[1;33m\u001b[0m\u001b[0m\n\u001b[0m\u001b[0;32m    402\u001b[0m \u001b[1;33m\u001b[0m\u001b[0m\n\u001b[0;32m    403\u001b[0m             \u001b[1;32mif\u001b[0m \u001b[0mhave_dicts\u001b[0m\u001b[1;33m:\u001b[0m\u001b[1;33m\u001b[0m\u001b[1;33m\u001b[0m\u001b[0m\n",
      "\u001b[1;31mValueError\u001b[0m: arrays must all be same length"
     ]
    }
   ],
   "source": [
    "df=pd.DataFrame({\"Rank\":Rank[0:10],\"Name\":Name[0:10],\"Artist\":Artist[0:10],\n",
    "                \"upload_date\":upload_date[0:10],\"Views\":Views[0:10]})\n",
    "df"
   ]
  },
  {
   "cell_type": "markdown",
   "id": "55ef822b",
   "metadata": {},
   "source": [
    "Q2 Scrape the details team India’s international fixtures from bcci.tv.\n",
    "Url = https://www.bcci.tv/.\n",
    "You need to find following details:\n",
    "A) Match title (I.e. 1st ODI)\n",
    "B) Series\n",
    "C) Place\n",
    "D) Date\n",
    "E) Time"
   ]
  },
  {
   "cell_type": "code",
   "execution_count": 131,
   "id": "4146f44d",
   "metadata": {},
   "outputs": [],
   "source": [
    "from selenium.webdriver.support.ui import WebDriverWait\n",
    "from selenium.webdriver.support import expected_conditions as EC\n",
    "from selenium.webdriver.common.by import By\n",
    "from selenium.common.exceptions import TimeoutException\n",
    "from selenium.common.exceptions import WebDriverException\n",
    "from selenium.common.exceptions import NoSuchElementException\n",
    "from selenium.common.exceptions import ElementNotInteractableException"
   ]
  },
  {
   "cell_type": "code",
   "execution_count": 119,
   "id": "a2611d28",
   "metadata": {
    "scrolled": true
   },
   "outputs": [],
   "source": [
    "driver.get('https://www.bcci.tv/')"
   ]
  },
  {
   "cell_type": "code",
   "execution_count": 120,
   "id": "262d086b",
   "metadata": {},
   "outputs": [],
   "source": [
    "url = 'https://www.bcci.tv/'\n",
    "driver.get(url)\n",
    "time.sleep(6)"
   ]
  },
  {
   "cell_type": "code",
   "execution_count": 134,
   "id": "a3552be4",
   "metadata": {},
   "outputs": [
    {
     "name": "stderr",
     "output_type": "stream",
     "text": [
      "<ipython-input-134-69a945f3df4e>:2: DeprecationWarning: find_element_by_* commands are deprecated. Please use find_element() instead\n",
      "  element = driver.find_element_by_xpath(\"//li[@class='nav-link active ']\")\n"
     ]
    },
    {
     "ename": "NoSuchElementException",
     "evalue": "Message: no such element: Unable to locate element: {\"method\":\"xpath\",\"selector\":\"//li[@class='nav-link active ']\"}\n  (Session info: chrome=96.0.4664.110)\nStacktrace:\nBacktrace:\n\tOrdinal0 [0x00796903+2517251]\n\tOrdinal0 [0x0072F8E1+2095329]\n\tOrdinal0 [0x00632848+1058888]\n\tOrdinal0 [0x0065D448+1233992]\n\tOrdinal0 [0x0065D63B+1234491]\n\tOrdinal0 [0x00687812+1406994]\n\tOrdinal0 [0x0067650A+1336586]\n\tOrdinal0 [0x00685BBF+1399743]\n\tOrdinal0 [0x0067639B+1336219]\n\tOrdinal0 [0x006527A7+1189799]\n\tOrdinal0 [0x00653609+1193481]\n\tGetHandleVerifier [0x00925904+1577972]\n\tGetHandleVerifier [0x009D0B97+2279047]\n\tGetHandleVerifier [0x00826D09+534521]\n\tGetHandleVerifier [0x00825DB9+530601]\n\tOrdinal0 [0x00734FF9+2117625]\n\tOrdinal0 [0x007398A8+2136232]\n\tOrdinal0 [0x007399E2+2136546]\n\tOrdinal0 [0x00743541+2176321]\n\tBaseThreadInitThunk [0x75106739+25]\n\tRtlGetFullPathName_UEx [0x771A8AFF+1215]\n\tRtlGetFullPathName_UEx [0x771A8ACD+1165]\n",
     "output_type": "error",
     "traceback": [
      "\u001b[1;31m---------------------------------------------------------------------------\u001b[0m",
      "\u001b[1;31mNoSuchElementException\u001b[0m                    Traceback (most recent call last)",
      "\u001b[1;32m<ipython-input-134-69a945f3df4e>\u001b[0m in \u001b[0;36m<module>\u001b[1;34m\u001b[0m\n\u001b[0;32m      1\u001b[0m \u001b[1;32mtry\u001b[0m\u001b[1;33m:\u001b[0m\u001b[1;33m\u001b[0m\u001b[1;33m\u001b[0m\u001b[0m\n\u001b[1;32m----> 2\u001b[1;33m     \u001b[0melement\u001b[0m \u001b[1;33m=\u001b[0m \u001b[0mdriver\u001b[0m\u001b[1;33m.\u001b[0m\u001b[0mfind_element_by_xpath\u001b[0m\u001b[1;33m(\u001b[0m\u001b[1;34m\"//li[@class='nav-link active ']\"\u001b[0m\u001b[1;33m)\u001b[0m\u001b[1;33m\u001b[0m\u001b[1;33m\u001b[0m\u001b[0m\n\u001b[0m\u001b[0;32m      3\u001b[0m     \u001b[0melement\u001b[0m\u001b[1;33m.\u001b[0m\u001b[0mclick\u001b[0m\u001b[1;33m(\u001b[0m\u001b[1;33m)\u001b[0m\u001b[1;33m\u001b[0m\u001b[1;33m\u001b[0m\u001b[0m\n\u001b[0;32m      4\u001b[0m \u001b[1;32mexcept\u001b[0m \u001b[0mElementNotInteractableException\u001b[0m \u001b[1;32mas\u001b[0m \u001b[0me\u001b[0m\u001b[1;33m:\u001b[0m\u001b[1;33m\u001b[0m\u001b[1;33m\u001b[0m\u001b[0m\n\u001b[0;32m      5\u001b[0m     \u001b[0mprint\u001b[0m\u001b[1;33m(\u001b[0m\u001b[1;34m\"Exception Raised:\"\u001b[0m\u001b[1;33m,\u001b[0m \u001b[0me\u001b[0m\u001b[1;33m)\u001b[0m\u001b[1;33m\u001b[0m\u001b[1;33m\u001b[0m\u001b[0m\n",
      "\u001b[1;32mC:\\ProgramData\\Anaconda3\\lib\\site-packages\\selenium\\webdriver\\remote\\webdriver.py\u001b[0m in \u001b[0;36mfind_element_by_xpath\u001b[1;34m(self, xpath)\u001b[0m\n\u001b[0;32m    518\u001b[0m             \u001b[0mstacklevel\u001b[0m\u001b[1;33m=\u001b[0m\u001b[1;36m2\u001b[0m\u001b[1;33m,\u001b[0m\u001b[1;33m\u001b[0m\u001b[1;33m\u001b[0m\u001b[0m\n\u001b[0;32m    519\u001b[0m         )\n\u001b[1;32m--> 520\u001b[1;33m         \u001b[1;32mreturn\u001b[0m \u001b[0mself\u001b[0m\u001b[1;33m.\u001b[0m\u001b[0mfind_element\u001b[0m\u001b[1;33m(\u001b[0m\u001b[0mby\u001b[0m\u001b[1;33m=\u001b[0m\u001b[0mBy\u001b[0m\u001b[1;33m.\u001b[0m\u001b[0mXPATH\u001b[0m\u001b[1;33m,\u001b[0m \u001b[0mvalue\u001b[0m\u001b[1;33m=\u001b[0m\u001b[0mxpath\u001b[0m\u001b[1;33m)\u001b[0m\u001b[1;33m\u001b[0m\u001b[1;33m\u001b[0m\u001b[0m\n\u001b[0m\u001b[0;32m    521\u001b[0m \u001b[1;33m\u001b[0m\u001b[0m\n\u001b[0;32m    522\u001b[0m     \u001b[1;32mdef\u001b[0m \u001b[0mfind_elements_by_xpath\u001b[0m\u001b[1;33m(\u001b[0m\u001b[0mself\u001b[0m\u001b[1;33m,\u001b[0m \u001b[0mxpath\u001b[0m\u001b[1;33m)\u001b[0m \u001b[1;33m->\u001b[0m \u001b[0mWebElement\u001b[0m\u001b[1;33m:\u001b[0m\u001b[1;33m\u001b[0m\u001b[1;33m\u001b[0m\u001b[0m\n",
      "\u001b[1;32mC:\\ProgramData\\Anaconda3\\lib\\site-packages\\selenium\\webdriver\\remote\\webdriver.py\u001b[0m in \u001b[0;36mfind_element\u001b[1;34m(self, by, value)\u001b[0m\n\u001b[0;32m   1242\u001b[0m             \u001b[0mvalue\u001b[0m \u001b[1;33m=\u001b[0m \u001b[1;34m'[name=\"%s\"]'\u001b[0m \u001b[1;33m%\u001b[0m \u001b[0mvalue\u001b[0m\u001b[1;33m\u001b[0m\u001b[1;33m\u001b[0m\u001b[0m\n\u001b[0;32m   1243\u001b[0m \u001b[1;33m\u001b[0m\u001b[0m\n\u001b[1;32m-> 1244\u001b[1;33m         return self.execute(Command.FIND_ELEMENT, {\n\u001b[0m\u001b[0;32m   1245\u001b[0m             \u001b[1;34m'using'\u001b[0m\u001b[1;33m:\u001b[0m \u001b[0mby\u001b[0m\u001b[1;33m,\u001b[0m\u001b[1;33m\u001b[0m\u001b[1;33m\u001b[0m\u001b[0m\n\u001b[0;32m   1246\u001b[0m             'value': value})['value']\n",
      "\u001b[1;32mC:\\ProgramData\\Anaconda3\\lib\\site-packages\\selenium\\webdriver\\remote\\webdriver.py\u001b[0m in \u001b[0;36mexecute\u001b[1;34m(self, driver_command, params)\u001b[0m\n\u001b[0;32m    422\u001b[0m         \u001b[0mresponse\u001b[0m \u001b[1;33m=\u001b[0m \u001b[0mself\u001b[0m\u001b[1;33m.\u001b[0m\u001b[0mcommand_executor\u001b[0m\u001b[1;33m.\u001b[0m\u001b[0mexecute\u001b[0m\u001b[1;33m(\u001b[0m\u001b[0mdriver_command\u001b[0m\u001b[1;33m,\u001b[0m \u001b[0mparams\u001b[0m\u001b[1;33m)\u001b[0m\u001b[1;33m\u001b[0m\u001b[1;33m\u001b[0m\u001b[0m\n\u001b[0;32m    423\u001b[0m         \u001b[1;32mif\u001b[0m \u001b[0mresponse\u001b[0m\u001b[1;33m:\u001b[0m\u001b[1;33m\u001b[0m\u001b[1;33m\u001b[0m\u001b[0m\n\u001b[1;32m--> 424\u001b[1;33m             \u001b[0mself\u001b[0m\u001b[1;33m.\u001b[0m\u001b[0merror_handler\u001b[0m\u001b[1;33m.\u001b[0m\u001b[0mcheck_response\u001b[0m\u001b[1;33m(\u001b[0m\u001b[0mresponse\u001b[0m\u001b[1;33m)\u001b[0m\u001b[1;33m\u001b[0m\u001b[1;33m\u001b[0m\u001b[0m\n\u001b[0m\u001b[0;32m    425\u001b[0m             response['value'] = self._unwrap_value(\n\u001b[0;32m    426\u001b[0m                 response.get('value', None))\n",
      "\u001b[1;32mC:\\ProgramData\\Anaconda3\\lib\\site-packages\\selenium\\webdriver\\remote\\errorhandler.py\u001b[0m in \u001b[0;36mcheck_response\u001b[1;34m(self, response)\u001b[0m\n\u001b[0;32m    245\u001b[0m                 \u001b[0malert_text\u001b[0m \u001b[1;33m=\u001b[0m \u001b[0mvalue\u001b[0m\u001b[1;33m[\u001b[0m\u001b[1;34m'alert'\u001b[0m\u001b[1;33m]\u001b[0m\u001b[1;33m.\u001b[0m\u001b[0mget\u001b[0m\u001b[1;33m(\u001b[0m\u001b[1;34m'text'\u001b[0m\u001b[1;33m)\u001b[0m\u001b[1;33m\u001b[0m\u001b[1;33m\u001b[0m\u001b[0m\n\u001b[0;32m    246\u001b[0m             \u001b[1;32mraise\u001b[0m \u001b[0mexception_class\u001b[0m\u001b[1;33m(\u001b[0m\u001b[0mmessage\u001b[0m\u001b[1;33m,\u001b[0m \u001b[0mscreen\u001b[0m\u001b[1;33m,\u001b[0m \u001b[0mstacktrace\u001b[0m\u001b[1;33m,\u001b[0m \u001b[0malert_text\u001b[0m\u001b[1;33m)\u001b[0m  \u001b[1;31m# type: ignore[call-arg]  # mypy is not smart enough here\u001b[0m\u001b[1;33m\u001b[0m\u001b[1;33m\u001b[0m\u001b[0m\n\u001b[1;32m--> 247\u001b[1;33m         \u001b[1;32mraise\u001b[0m \u001b[0mexception_class\u001b[0m\u001b[1;33m(\u001b[0m\u001b[0mmessage\u001b[0m\u001b[1;33m,\u001b[0m \u001b[0mscreen\u001b[0m\u001b[1;33m,\u001b[0m \u001b[0mstacktrace\u001b[0m\u001b[1;33m)\u001b[0m\u001b[1;33m\u001b[0m\u001b[1;33m\u001b[0m\u001b[0m\n\u001b[0m\u001b[0;32m    248\u001b[0m \u001b[1;33m\u001b[0m\u001b[0m\n\u001b[0;32m    249\u001b[0m     \u001b[1;32mdef\u001b[0m \u001b[0m_value_or_default\u001b[0m\u001b[1;33m(\u001b[0m\u001b[0mself\u001b[0m\u001b[1;33m,\u001b[0m \u001b[0mobj\u001b[0m\u001b[1;33m:\u001b[0m \u001b[0mMapping\u001b[0m\u001b[1;33m[\u001b[0m\u001b[0m_KT\u001b[0m\u001b[1;33m,\u001b[0m \u001b[0m_VT\u001b[0m\u001b[1;33m]\u001b[0m\u001b[1;33m,\u001b[0m \u001b[0mkey\u001b[0m\u001b[1;33m:\u001b[0m \u001b[0m_KT\u001b[0m\u001b[1;33m,\u001b[0m \u001b[0mdefault\u001b[0m\u001b[1;33m:\u001b[0m \u001b[0m_VT\u001b[0m\u001b[1;33m)\u001b[0m \u001b[1;33m->\u001b[0m \u001b[0m_VT\u001b[0m\u001b[1;33m:\u001b[0m\u001b[1;33m\u001b[0m\u001b[1;33m\u001b[0m\u001b[0m\n",
      "\u001b[1;31mNoSuchElementException\u001b[0m: Message: no such element: Unable to locate element: {\"method\":\"xpath\",\"selector\":\"//li[@class='nav-link active ']\"}\n  (Session info: chrome=96.0.4664.110)\nStacktrace:\nBacktrace:\n\tOrdinal0 [0x00796903+2517251]\n\tOrdinal0 [0x0072F8E1+2095329]\n\tOrdinal0 [0x00632848+1058888]\n\tOrdinal0 [0x0065D448+1233992]\n\tOrdinal0 [0x0065D63B+1234491]\n\tOrdinal0 [0x00687812+1406994]\n\tOrdinal0 [0x0067650A+1336586]\n\tOrdinal0 [0x00685BBF+1399743]\n\tOrdinal0 [0x0067639B+1336219]\n\tOrdinal0 [0x006527A7+1189799]\n\tOrdinal0 [0x00653609+1193481]\n\tGetHandleVerifier [0x00925904+1577972]\n\tGetHandleVerifier [0x009D0B97+2279047]\n\tGetHandleVerifier [0x00826D09+534521]\n\tGetHandleVerifier [0x00825DB9+530601]\n\tOrdinal0 [0x00734FF9+2117625]\n\tOrdinal0 [0x007398A8+2136232]\n\tOrdinal0 [0x007399E2+2136546]\n\tOrdinal0 [0x00743541+2176321]\n\tBaseThreadInitThunk [0x75106739+25]\n\tRtlGetFullPathName_UEx [0x771A8AFF+1215]\n\tRtlGetFullPathName_UEx [0x771A8ACD+1165]\n"
     ]
    }
   ],
   "source": [
    "try:\n",
    "    element = driver.find_element_by_xpath(\"//li[@class='nav-link active ']\")\n",
    "    element.click()\n",
    "except ElementNotInteractableException as e:\n",
    "    print(\"Exception Raised:\", e)"
   ]
  },
  {
   "cell_type": "code",
   "execution_count": 135,
   "id": "b746f845",
   "metadata": {},
   "outputs": [
    {
     "name": "stderr",
     "output_type": "stream",
     "text": [
      "<ipython-input-135-aeb4a570b314>:2: DeprecationWarning: find_element_by_* commands are deprecated. Please use find_element() instead\n",
      "  element = driver.find_element_by_xpath(\"//div[@class='cSBDisplay ng-binding']\")\n"
     ]
    }
   ],
   "source": [
    "try:\n",
    "    element = driver.find_element_by_xpath(\"//div[@class='cSBDisplay ng-binding']\")\n",
    "    element.click()\n",
    "except ElementNotInteractableException as e:\n",
    "    print(\"Exception Raised:\", e)"
   ]
  },
  {
   "cell_type": "code",
   "execution_count": 136,
   "id": "ad203b29",
   "metadata": {},
   "outputs": [
    {
     "name": "stderr",
     "output_type": "stream",
     "text": [
      "<ipython-input-136-0e615d8f3dc1>:2: DeprecationWarning: find_element_by_* commands are deprecated. Please use find_element() instead\n",
      "  element = driver.find_element_by_xpath(\"//div[@class='cSBListItems ng-scope']\")\n"
     ]
    }
   ],
   "source": [
    "try:\n",
    "    element = driver.find_element_by_xpath(\"//div[@class='cSBListItems ng-scope']\")\n",
    "    element.click()\n",
    "except ElementNotInteractableException as e:\n",
    "    print(\"Exception Raised:\", e)"
   ]
  },
  {
   "cell_type": "code",
   "execution_count": 137,
   "id": "35c55430",
   "metadata": {},
   "outputs": [],
   "source": [
    "Match_title=[]\n",
    "Series=[]\n",
    "Place=[]\n",
    "Date=[]\n",
    "Time=[]"
   ]
  },
  {
   "cell_type": "code",
   "execution_count": 140,
   "id": "b4ed7668",
   "metadata": {},
   "outputs": [
    {
     "name": "stderr",
     "output_type": "stream",
     "text": [
      "<ipython-input-140-4bfac40ef372>:4: DeprecationWarning: find_elements_by_* commands are deprecated. Please use find_elements() instead\n",
      "  Match_title=driver.find_elements_by_xpath('//a[@class=\"ng-binding\"]')#scraping brands name by class name='_2WkVRV'\n",
      "<ipython-input-140-4bfac40ef372>:7: DeprecationWarning: find_elements_by_* commands are deprecated. Please use find_elements() instead\n",
      "  Series=driver.find_elements_by_xpath('//a[@class=\"cSBListItems ng-scope\"]')#scraping description from the xpath\n",
      "<ipython-input-140-4bfac40ef372>:10: DeprecationWarning: find_elements_by_* commands are deprecated. Please use find_elements() instead\n",
      "  Place=driver.find_elements_by_xpath(\"//a[@class='match-center-btn ng-scope']\")# scraping the price from the xpath\n"
     ]
    },
    {
     "ename": "AttributeError",
     "evalue": "'str' object has no attribute 'text'",
     "output_type": "error",
     "traceback": [
      "\u001b[1;31m---------------------------------------------------------------------------\u001b[0m",
      "\u001b[1;31mAttributeError\u001b[0m                            Traceback (most recent call last)",
      "\u001b[1;32m<ipython-input-140-4bfac40ef372>\u001b[0m in \u001b[0;36m<module>\u001b[1;34m\u001b[0m\n\u001b[0;32m     10\u001b[0m     \u001b[0mPlace\u001b[0m\u001b[1;33m=\u001b[0m\u001b[0mdriver\u001b[0m\u001b[1;33m.\u001b[0m\u001b[0mfind_elements_by_xpath\u001b[0m\u001b[1;33m(\u001b[0m\u001b[1;34m\"//a[@class='match-center-btn ng-scope']\"\u001b[0m\u001b[1;33m)\u001b[0m\u001b[1;31m# scraping the price from the xpath\u001b[0m\u001b[1;33m\u001b[0m\u001b[1;33m\u001b[0m\u001b[0m\n\u001b[0;32m     11\u001b[0m     \u001b[1;32mfor\u001b[0m \u001b[0mi\u001b[0m \u001b[1;32min\u001b[0m \u001b[0mPlace\u001b[0m\u001b[1;33m:\u001b[0m\u001b[1;33m\u001b[0m\u001b[1;33m\u001b[0m\u001b[0m\n\u001b[1;32m---> 12\u001b[1;33m         \u001b[0mPlace\u001b[0m\u001b[1;33m.\u001b[0m\u001b[0mappend\u001b[0m\u001b[1;33m(\u001b[0m\u001b[0mi\u001b[0m\u001b[1;33m.\u001b[0m\u001b[0mtext\u001b[0m\u001b[1;33m)\u001b[0m\u001b[1;33m\u001b[0m\u001b[1;33m\u001b[0m\u001b[0m\n\u001b[0m\u001b[0;32m     13\u001b[0m     \u001b[0mDate\u001b[0m\u001b[1;33m=\u001b[0m\u001b[0mdriver\u001b[0m\u001b[1;33m.\u001b[0m\u001b[0mfind_elements_by_xpath\u001b[0m\u001b[1;33m(\u001b[0m\u001b[1;34m\"//div[@class='ng-binding']\"\u001b[0m\u001b[1;33m)\u001b[0m\u001b[1;31m# scraping the price from the xpath\u001b[0m\u001b[1;33m\u001b[0m\u001b[1;33m\u001b[0m\u001b[0m\n\u001b[0;32m     14\u001b[0m     \u001b[1;32mfor\u001b[0m \u001b[0mi\u001b[0m \u001b[1;32min\u001b[0m \u001b[0mDate\u001b[0m\u001b[1;33m:\u001b[0m\u001b[1;33m\u001b[0m\u001b[1;33m\u001b[0m\u001b[0m\n",
      "\u001b[1;31mAttributeError\u001b[0m: 'str' object has no attribute 'text'"
     ]
    }
   ],
   "source": [
    "start=0\n",
    "end=3\n",
    "for page in range(start,end):#for loop for scrapping 4 page\n",
    "    Match_title=driver.find_elements_by_xpath('//a[@class=\"ng-binding\"]')#scraping brands name by class name='_2WkVRV'\n",
    "    for i in Match_title:\n",
    "        Match_title.append(i.text)#appending the text in Brand list\n",
    "    Series=driver.find_elements_by_xpath('//a[@class=\"cSBListItems ng-scope\"]')#scraping description from the xpath\n",
    "    for i in Series:\n",
    "        Series.append(i.text)#appending the description in list\n",
    "    Place=driver.find_elements_by_xpath(\"//a[@class='match-center-btn ng-scope']\")# scraping the price from the xpath\n",
    "    for i in Place:\n",
    "        Place.append(i.text)\n",
    "    Date=driver.find_elements_by_xpath(\"//div[@class='ng-binding']\")# scraping the price from the xpath\n",
    "    for i in Date:\n",
    "        Date.append(i.text)\n",
    "    Time=driver.find_elements_by_xpath(\"//div[@class='text-right ng-binding']\")# scraping the price from the xpath\n",
    "    for i in Time:\n",
    "        Time.append(i.text)\n",
    "    "
   ]
  },
  {
   "cell_type": "code",
   "execution_count": 141,
   "id": "4566ca32",
   "metadata": {
    "scrolled": true
   },
   "outputs": [
    {
     "ename": "ValueError",
     "evalue": "arrays must all be same length",
     "output_type": "error",
     "traceback": [
      "\u001b[1;31m---------------------------------------------------------------------------\u001b[0m",
      "\u001b[1;31mValueError\u001b[0m                                Traceback (most recent call last)",
      "\u001b[1;32m<ipython-input-141-d7565e2c7bf9>\u001b[0m in \u001b[0;36m<module>\u001b[1;34m\u001b[0m\n\u001b[1;32m----> 1\u001b[1;33m df=pd.DataFrame({'Match_title':Match_title,\n\u001b[0m\u001b[0;32m      2\u001b[0m                 \u001b[1;34m'Series'\u001b[0m\u001b[1;33m:\u001b[0m\u001b[0mSeries\u001b[0m\u001b[1;33m,\u001b[0m\u001b[1;33m\u001b[0m\u001b[1;33m\u001b[0m\u001b[0m\n\u001b[0;32m      3\u001b[0m                 \u001b[1;34m'Place'\u001b[0m\u001b[1;33m:\u001b[0m\u001b[0mPlace\u001b[0m\u001b[1;33m,\u001b[0m\u001b[1;33m\u001b[0m\u001b[1;33m\u001b[0m\u001b[0m\n\u001b[0;32m      4\u001b[0m                 \u001b[1;34m'Date'\u001b[0m\u001b[1;33m:\u001b[0m\u001b[0mDate\u001b[0m\u001b[1;33m,\u001b[0m\u001b[1;33m\u001b[0m\u001b[1;33m\u001b[0m\u001b[0m\n\u001b[0;32m      5\u001b[0m                 'Time':Time})\n",
      "\u001b[1;32mC:\\ProgramData\\Anaconda3\\lib\\site-packages\\pandas\\core\\frame.py\u001b[0m in \u001b[0;36m__init__\u001b[1;34m(self, data, index, columns, dtype, copy)\u001b[0m\n\u001b[0;32m    527\u001b[0m \u001b[1;33m\u001b[0m\u001b[0m\n\u001b[0;32m    528\u001b[0m         \u001b[1;32melif\u001b[0m \u001b[0misinstance\u001b[0m\u001b[1;33m(\u001b[0m\u001b[0mdata\u001b[0m\u001b[1;33m,\u001b[0m \u001b[0mdict\u001b[0m\u001b[1;33m)\u001b[0m\u001b[1;33m:\u001b[0m\u001b[1;33m\u001b[0m\u001b[1;33m\u001b[0m\u001b[0m\n\u001b[1;32m--> 529\u001b[1;33m             \u001b[0mmgr\u001b[0m \u001b[1;33m=\u001b[0m \u001b[0minit_dict\u001b[0m\u001b[1;33m(\u001b[0m\u001b[0mdata\u001b[0m\u001b[1;33m,\u001b[0m \u001b[0mindex\u001b[0m\u001b[1;33m,\u001b[0m \u001b[0mcolumns\u001b[0m\u001b[1;33m,\u001b[0m \u001b[0mdtype\u001b[0m\u001b[1;33m=\u001b[0m\u001b[0mdtype\u001b[0m\u001b[1;33m)\u001b[0m\u001b[1;33m\u001b[0m\u001b[1;33m\u001b[0m\u001b[0m\n\u001b[0m\u001b[0;32m    530\u001b[0m         \u001b[1;32melif\u001b[0m \u001b[0misinstance\u001b[0m\u001b[1;33m(\u001b[0m\u001b[0mdata\u001b[0m\u001b[1;33m,\u001b[0m \u001b[0mma\u001b[0m\u001b[1;33m.\u001b[0m\u001b[0mMaskedArray\u001b[0m\u001b[1;33m)\u001b[0m\u001b[1;33m:\u001b[0m\u001b[1;33m\u001b[0m\u001b[1;33m\u001b[0m\u001b[0m\n\u001b[0;32m    531\u001b[0m             \u001b[1;32mimport\u001b[0m \u001b[0mnumpy\u001b[0m\u001b[1;33m.\u001b[0m\u001b[0mma\u001b[0m\u001b[1;33m.\u001b[0m\u001b[0mmrecords\u001b[0m \u001b[1;32mas\u001b[0m \u001b[0mmrecords\u001b[0m\u001b[1;33m\u001b[0m\u001b[1;33m\u001b[0m\u001b[0m\n",
      "\u001b[1;32mC:\\ProgramData\\Anaconda3\\lib\\site-packages\\pandas\\core\\internals\\construction.py\u001b[0m in \u001b[0;36minit_dict\u001b[1;34m(data, index, columns, dtype)\u001b[0m\n\u001b[0;32m    285\u001b[0m             \u001b[0marr\u001b[0m \u001b[1;32mif\u001b[0m \u001b[1;32mnot\u001b[0m \u001b[0mis_datetime64tz_dtype\u001b[0m\u001b[1;33m(\u001b[0m\u001b[0marr\u001b[0m\u001b[1;33m)\u001b[0m \u001b[1;32melse\u001b[0m \u001b[0marr\u001b[0m\u001b[1;33m.\u001b[0m\u001b[0mcopy\u001b[0m\u001b[1;33m(\u001b[0m\u001b[1;33m)\u001b[0m \u001b[1;32mfor\u001b[0m \u001b[0marr\u001b[0m \u001b[1;32min\u001b[0m \u001b[0marrays\u001b[0m\u001b[1;33m\u001b[0m\u001b[1;33m\u001b[0m\u001b[0m\n\u001b[0;32m    286\u001b[0m         ]\n\u001b[1;32m--> 287\u001b[1;33m     \u001b[1;32mreturn\u001b[0m \u001b[0marrays_to_mgr\u001b[0m\u001b[1;33m(\u001b[0m\u001b[0marrays\u001b[0m\u001b[1;33m,\u001b[0m \u001b[0mdata_names\u001b[0m\u001b[1;33m,\u001b[0m \u001b[0mindex\u001b[0m\u001b[1;33m,\u001b[0m \u001b[0mcolumns\u001b[0m\u001b[1;33m,\u001b[0m \u001b[0mdtype\u001b[0m\u001b[1;33m=\u001b[0m\u001b[0mdtype\u001b[0m\u001b[1;33m)\u001b[0m\u001b[1;33m\u001b[0m\u001b[1;33m\u001b[0m\u001b[0m\n\u001b[0m\u001b[0;32m    288\u001b[0m \u001b[1;33m\u001b[0m\u001b[0m\n\u001b[0;32m    289\u001b[0m \u001b[1;33m\u001b[0m\u001b[0m\n",
      "\u001b[1;32mC:\\ProgramData\\Anaconda3\\lib\\site-packages\\pandas\\core\\internals\\construction.py\u001b[0m in \u001b[0;36marrays_to_mgr\u001b[1;34m(arrays, arr_names, index, columns, dtype, verify_integrity)\u001b[0m\n\u001b[0;32m     78\u001b[0m         \u001b[1;31m# figure out the index, if necessary\u001b[0m\u001b[1;33m\u001b[0m\u001b[1;33m\u001b[0m\u001b[1;33m\u001b[0m\u001b[0m\n\u001b[0;32m     79\u001b[0m         \u001b[1;32mif\u001b[0m \u001b[0mindex\u001b[0m \u001b[1;32mis\u001b[0m \u001b[1;32mNone\u001b[0m\u001b[1;33m:\u001b[0m\u001b[1;33m\u001b[0m\u001b[1;33m\u001b[0m\u001b[0m\n\u001b[1;32m---> 80\u001b[1;33m             \u001b[0mindex\u001b[0m \u001b[1;33m=\u001b[0m \u001b[0mextract_index\u001b[0m\u001b[1;33m(\u001b[0m\u001b[0marrays\u001b[0m\u001b[1;33m)\u001b[0m\u001b[1;33m\u001b[0m\u001b[1;33m\u001b[0m\u001b[0m\n\u001b[0m\u001b[0;32m     81\u001b[0m         \u001b[1;32melse\u001b[0m\u001b[1;33m:\u001b[0m\u001b[1;33m\u001b[0m\u001b[1;33m\u001b[0m\u001b[0m\n\u001b[0;32m     82\u001b[0m             \u001b[0mindex\u001b[0m \u001b[1;33m=\u001b[0m \u001b[0mensure_index\u001b[0m\u001b[1;33m(\u001b[0m\u001b[0mindex\u001b[0m\u001b[1;33m)\u001b[0m\u001b[1;33m\u001b[0m\u001b[1;33m\u001b[0m\u001b[0m\n",
      "\u001b[1;32mC:\\ProgramData\\Anaconda3\\lib\\site-packages\\pandas\\core\\internals\\construction.py\u001b[0m in \u001b[0;36mextract_index\u001b[1;34m(data)\u001b[0m\n\u001b[0;32m    399\u001b[0m             \u001b[0mlengths\u001b[0m \u001b[1;33m=\u001b[0m \u001b[0mlist\u001b[0m\u001b[1;33m(\u001b[0m\u001b[0mset\u001b[0m\u001b[1;33m(\u001b[0m\u001b[0mraw_lengths\u001b[0m\u001b[1;33m)\u001b[0m\u001b[1;33m)\u001b[0m\u001b[1;33m\u001b[0m\u001b[1;33m\u001b[0m\u001b[0m\n\u001b[0;32m    400\u001b[0m             \u001b[1;32mif\u001b[0m \u001b[0mlen\u001b[0m\u001b[1;33m(\u001b[0m\u001b[0mlengths\u001b[0m\u001b[1;33m)\u001b[0m \u001b[1;33m>\u001b[0m \u001b[1;36m1\u001b[0m\u001b[1;33m:\u001b[0m\u001b[1;33m\u001b[0m\u001b[1;33m\u001b[0m\u001b[0m\n\u001b[1;32m--> 401\u001b[1;33m                 \u001b[1;32mraise\u001b[0m \u001b[0mValueError\u001b[0m\u001b[1;33m(\u001b[0m\u001b[1;34m\"arrays must all be same length\"\u001b[0m\u001b[1;33m)\u001b[0m\u001b[1;33m\u001b[0m\u001b[1;33m\u001b[0m\u001b[0m\n\u001b[0m\u001b[0;32m    402\u001b[0m \u001b[1;33m\u001b[0m\u001b[0m\n\u001b[0;32m    403\u001b[0m             \u001b[1;32mif\u001b[0m \u001b[0mhave_dicts\u001b[0m\u001b[1;33m:\u001b[0m\u001b[1;33m\u001b[0m\u001b[1;33m\u001b[0m\u001b[0m\n",
      "\u001b[1;31mValueError\u001b[0m: arrays must all be same length"
     ]
    }
   ],
   "source": [
    "df=pd.DataFrame({'Match_title':Match_title,\n",
    "                'Series':Series,\n",
    "                'Place':Place,\n",
    "                'Date':Date,\n",
    "                'Time':Time})\n",
    "\n",
    "df"
   ]
  },
  {
   "cell_type": "markdown",
   "id": "b5cf7e13",
   "metadata": {},
   "source": [
    "Q 3 Scrape the details of selenium exception from guru99.com.\n",
    "Url = https://www.guru99.com/\n",
    "You need to find following details:\n",
    "A) Name\n",
    "B) Description"
   ]
  },
  {
   "cell_type": "code",
   "execution_count": 60,
   "id": "652f2c60",
   "metadata": {},
   "outputs": [
    {
     "name": "stderr",
     "output_type": "stream",
     "text": [
      "<ipython-input-60-e5264c7a3582>:1: DeprecationWarning: executable_path has been deprecated, please pass in a Service object\n",
      "  driver = webdriver.Chrome(r\"E:\\chromedriver_win32/chromedriver.exe\")\n"
     ]
    }
   ],
   "source": [
    "driver = webdriver.Chrome(r\"E:\\chromedriver_win32/chromedriver.exe\")"
   ]
  },
  {
   "cell_type": "code",
   "execution_count": 61,
   "id": "7807baec",
   "metadata": {},
   "outputs": [],
   "source": [
    "driver.get('https://www.guru99.com/exception-handling-selenium.html')"
   ]
  },
  {
   "cell_type": "code",
   "execution_count": 145,
   "id": "4d9569dc",
   "metadata": {},
   "outputs": [],
   "source": [
    "Name=[]\n",
    "Description=[]"
   ]
  },
  {
   "cell_type": "code",
   "execution_count": 146,
   "id": "0faec193",
   "metadata": {
    "collapsed": true
   },
   "outputs": [
    {
     "name": "stderr",
     "output_type": "stream",
     "text": [
      "<ipython-input-146-da3a8a121ead>:1: DeprecationWarning: find_elements_by_* commands are deprecated. Please use find_elements() instead\n",
      "  Names=driver.find_elements_by_xpath(\"//div[@class='row featured-boxes']\")\n"
     ]
    },
    {
     "ename": "AttributeError",
     "evalue": "'str' object has no attribute 'text'",
     "output_type": "error",
     "traceback": [
      "\u001b[1;31m---------------------------------------------------------------------------\u001b[0m",
      "\u001b[1;31mAttributeError\u001b[0m                            Traceback (most recent call last)",
      "\u001b[1;32m<ipython-input-146-da3a8a121ead>\u001b[0m in \u001b[0;36m<module>\u001b[1;34m\u001b[0m\n\u001b[0;32m      1\u001b[0m \u001b[0mNames\u001b[0m\u001b[1;33m=\u001b[0m\u001b[0mdriver\u001b[0m\u001b[1;33m.\u001b[0m\u001b[0mfind_elements_by_xpath\u001b[0m\u001b[1;33m(\u001b[0m\u001b[1;34m\"//div[@class='row featured-boxes']\"\u001b[0m\u001b[1;33m)\u001b[0m\u001b[1;33m\u001b[0m\u001b[1;33m\u001b[0m\u001b[0m\n\u001b[0;32m      2\u001b[0m \u001b[1;32mfor\u001b[0m \u001b[0mi\u001b[0m \u001b[1;32min\u001b[0m \u001b[0mNames\u001b[0m\u001b[1;33m:\u001b[0m\u001b[1;33m\u001b[0m\u001b[1;33m\u001b[0m\u001b[0m\n\u001b[1;32m----> 3\u001b[1;33m     \u001b[1;32mif\u001b[0m \u001b[0mi\u001b[0m\u001b[1;33m.\u001b[0m\u001b[0mtext\u001b[0m \u001b[1;32mis\u001b[0m \u001b[1;32mNone\u001b[0m \u001b[1;33m:\u001b[0m\u001b[1;33m\u001b[0m\u001b[1;33m\u001b[0m\u001b[0m\n\u001b[0m\u001b[0;32m      4\u001b[0m         \u001b[0mNames\u001b[0m\u001b[1;33m.\u001b[0m\u001b[0mappend\u001b[0m\u001b[1;33m(\u001b[0m\u001b[1;34m\"--\"\u001b[0m\u001b[1;33m)\u001b[0m\u001b[1;33m\u001b[0m\u001b[1;33m\u001b[0m\u001b[0m\n\u001b[0;32m      5\u001b[0m     \u001b[1;32melse\u001b[0m\u001b[1;33m:\u001b[0m\u001b[1;33m\u001b[0m\u001b[1;33m\u001b[0m\u001b[0m\n",
      "\u001b[1;31mAttributeError\u001b[0m: 'str' object has no attribute 'text'"
     ]
    }
   ],
   "source": [
    "Names=driver.find_elements_by_xpath(\"//div[@class='row featured-boxes']\")\n",
    "for i in Names:\n",
    "    if i.text is None :\n",
    "        Names.append(\"--\") \n",
    "    else:\n",
    "        Names.append(i.text)\n",
    "Names[0:5]\n",
    "time.sleep(4)"
   ]
  },
  {
   "cell_type": "code",
   "execution_count": 149,
   "id": "3cba9675",
   "metadata": {},
   "outputs": [
    {
     "name": "stderr",
     "output_type": "stream",
     "text": [
      "<ipython-input-149-a345c5426f28>:2: DeprecationWarning: find_element_by_* commands are deprecated. Please use find_element() instead\n",
      "  element = driver.find_element_by_xpath(\"//div[@class='row featured-boxes']\")\n"
     ]
    },
    {
     "name": "stdout",
     "output_type": "stream",
     "text": [
      "Exception Raised: Message: element not interactable: element has zero size\n",
      "  (Session info: chrome=96.0.4664.110)\n",
      "Stacktrace:\n",
      "Backtrace:\n",
      "\tOrdinal0 [0x00796903+2517251]\n",
      "\tOrdinal0 [0x0072F8E1+2095329]\n",
      "\tOrdinal0 [0x00632848+1058888]\n",
      "\tOrdinal0 [0x0065E619+1238553]\n",
      "\tOrdinal0 [0x00654037+1196087]\n",
      "\tOrdinal0 [0x006764D3+1336531]\n",
      "\tOrdinal0 [0x00653A36+1194550]\n",
      "\tOrdinal0 [0x006765BA+1336762]\n",
      "\tOrdinal0 [0x00685BBF+1399743]\n",
      "\tOrdinal0 [0x0067639B+1336219]\n",
      "\tOrdinal0 [0x006527A7+1189799]\n",
      "\tOrdinal0 [0x00653609+1193481]\n",
      "\tGetHandleVerifier [0x00925904+1577972]\n",
      "\tGetHandleVerifier [0x009D0B97+2279047]\n",
      "\tGetHandleVerifier [0x00826D09+534521]\n",
      "\tGetHandleVerifier [0x00825DB9+530601]\n",
      "\tOrdinal0 [0x00734FF9+2117625]\n",
      "\tOrdinal0 [0x007398A8+2136232]\n",
      "\tOrdinal0 [0x007399E2+2136546]\n",
      "\tOrdinal0 [0x00743541+2176321]\n",
      "\tBaseThreadInitThunk [0x75106739+25]\n",
      "\tRtlGetFullPathName_UEx [0x771A8AFF+1215]\n",
      "\tRtlGetFullPathName_UEx [0x771A8ACD+1165]\n",
      "\n"
     ]
    }
   ],
   "source": [
    "try:\n",
    "    element = driver.find_element_by_xpath(\"//div[@class='row featured-boxes']\")\n",
    "    element.click()\n",
    "except ElementNotInteractableException as e:\n",
    "    print(\"Exception Raised:\", e)"
   ]
  },
  {
   "cell_type": "markdown",
   "id": "2bec0d4d",
   "metadata": {},
   "source": [
    "Q4 Scrape the details of State-wise GDP of India from statisticstime.com.\n",
    "Url = http://statisticstimes.com/\n",
    "You have to find following details:\n",
    "A) Rank\n",
    "B) State\n",
    "C) GSDP\n",
    "D) GSDP\n",
    "E) Share\n",
    "F) GDP($ billion)"
   ]
  },
  {
   "cell_type": "code",
   "execution_count": 63,
   "id": "2787a4b6",
   "metadata": {},
   "outputs": [
    {
     "name": "stderr",
     "output_type": "stream",
     "text": [
      "<ipython-input-63-8c3de40007f6>:1: DeprecationWarning: executable_path has been deprecated, please pass in a Service object\n",
      "  driver = webdriver.Chrome(r\"E:\\chromedriver_win32/chromedriver.exe\")\n"
     ]
    }
   ],
   "source": [
    "driver = webdriver.Chrome(r\"E:\\chromedriver_win32/chromedriver.exe\")\n",
    "\n",
    "url = 'https://www.statisticstimes.com/economy/india/indian-states-gdp.php'\n",
    "driver.get(url)"
   ]
  },
  {
   "cell_type": "code",
   "execution_count": 64,
   "id": "0239e94f",
   "metadata": {},
   "outputs": [],
   "source": [
    "rank=[]\n",
    "state=[]\n",
    "GSDP=[]\n",
    "Share=[]\n",
    "GDP=[]"
   ]
  },
  {
   "cell_type": "code",
   "execution_count": 65,
   "id": "54ece5af",
   "metadata": {
    "scrolled": true
   },
   "outputs": [
    {
     "name": "stderr",
     "output_type": "stream",
     "text": [
      "<ipython-input-65-9de5078a806a>:1: DeprecationWarning: find_elements_by_* commands are deprecated. Please use find_elements() instead\n",
      "  rank=driver.find_elements_by_xpath(\"//td[@class='data1']\")\n"
     ]
    },
    {
     "data": {
      "text/plain": [
       "[<selenium.webdriver.remote.webelement.WebElement (session=\"7c3959b2e22bfcd7e4d1a62094f5dbdd\", element=\"a10a30e2-6374-42a1-b114-af3dff3f04d9\")>,\n",
       " <selenium.webdriver.remote.webelement.WebElement (session=\"7c3959b2e22bfcd7e4d1a62094f5dbdd\", element=\"68e0f053-ccd6-4394-a186-33959b7019fa\")>,\n",
       " <selenium.webdriver.remote.webelement.WebElement (session=\"7c3959b2e22bfcd7e4d1a62094f5dbdd\", element=\"b69a5688-ffc6-470f-8268-8a4c1cf74558\")>,\n",
       " <selenium.webdriver.remote.webelement.WebElement (session=\"7c3959b2e22bfcd7e4d1a62094f5dbdd\", element=\"e467d035-1532-4007-a1ab-bfe400b09eae\")>,\n",
       " <selenium.webdriver.remote.webelement.WebElement (session=\"7c3959b2e22bfcd7e4d1a62094f5dbdd\", element=\"e44db1cb-1015-4d6d-b46f-2aa79d2e7929\")>,\n",
       " <selenium.webdriver.remote.webelement.WebElement (session=\"7c3959b2e22bfcd7e4d1a62094f5dbdd\", element=\"05305bfb-d124-409a-aeb1-7625460ad14a\")>,\n",
       " <selenium.webdriver.remote.webelement.WebElement (session=\"7c3959b2e22bfcd7e4d1a62094f5dbdd\", element=\"55a45c5b-ae54-4dd7-809c-3fadb4e4becc\")>,\n",
       " <selenium.webdriver.remote.webelement.WebElement (session=\"7c3959b2e22bfcd7e4d1a62094f5dbdd\", element=\"63773481-d358-418b-8617-d09240b6664e\")>,\n",
       " <selenium.webdriver.remote.webelement.WebElement (session=\"7c3959b2e22bfcd7e4d1a62094f5dbdd\", element=\"e4216ab6-bd41-4e4e-9c71-ed51b48774ce\")>,\n",
       " <selenium.webdriver.remote.webelement.WebElement (session=\"7c3959b2e22bfcd7e4d1a62094f5dbdd\", element=\"9c3fc362-c103-45d4-a2bb-5de26c0a96fe\")>]"
      ]
     },
     "execution_count": 65,
     "metadata": {},
     "output_type": "execute_result"
    }
   ],
   "source": [
    "rank=driver.find_elements_by_xpath(\"//td[@class='data1']\")\n",
    "rank[0:10]\n",
    "\n",
    "for i in rank:\n",
    "    name=i.text\n",
    "    name_tags.append(name)\n",
    "rank[0:10]"
   ]
  },
  {
   "cell_type": "code",
   "execution_count": 66,
   "id": "fbd14458",
   "metadata": {},
   "outputs": [
    {
     "name": "stderr",
     "output_type": "stream",
     "text": [
      "<ipython-input-66-e2f414c84229>:1: DeprecationWarning: find_elements_by_* commands are deprecated. Please use find_elements() instead\n",
      "  state=driver.find_elements_by_xpath(\"//td[@class='name']\")\n"
     ]
    },
    {
     "data": {
      "text/plain": [
       "[<selenium.webdriver.remote.webelement.WebElement (session=\"7c3959b2e22bfcd7e4d1a62094f5dbdd\", element=\"a56c194b-0a91-42af-82f1-c4b16db7fc03\")>,\n",
       " <selenium.webdriver.remote.webelement.WebElement (session=\"7c3959b2e22bfcd7e4d1a62094f5dbdd\", element=\"54662328-c21d-4756-8da6-cb00b01c1aa9\")>,\n",
       " <selenium.webdriver.remote.webelement.WebElement (session=\"7c3959b2e22bfcd7e4d1a62094f5dbdd\", element=\"1e051d0f-e592-4b4e-95c3-28c04e7bed91\")>,\n",
       " <selenium.webdriver.remote.webelement.WebElement (session=\"7c3959b2e22bfcd7e4d1a62094f5dbdd\", element=\"1d4f1da2-507d-4287-b97d-d546ddea3fd0\")>,\n",
       " <selenium.webdriver.remote.webelement.WebElement (session=\"7c3959b2e22bfcd7e4d1a62094f5dbdd\", element=\"0d1783d6-0511-4f07-95b5-93d582e5342f\")>,\n",
       " <selenium.webdriver.remote.webelement.WebElement (session=\"7c3959b2e22bfcd7e4d1a62094f5dbdd\", element=\"8870160c-c07d-4469-81d6-388449e7d587\")>,\n",
       " <selenium.webdriver.remote.webelement.WebElement (session=\"7c3959b2e22bfcd7e4d1a62094f5dbdd\", element=\"151d0b34-4001-472b-ae84-0ab7f0fc2718\")>,\n",
       " <selenium.webdriver.remote.webelement.WebElement (session=\"7c3959b2e22bfcd7e4d1a62094f5dbdd\", element=\"af75503d-fe5f-4e9f-9d12-a74eac8dac34\")>,\n",
       " <selenium.webdriver.remote.webelement.WebElement (session=\"7c3959b2e22bfcd7e4d1a62094f5dbdd\", element=\"36d62c39-3613-4475-bc61-2d209616270d\")>,\n",
       " <selenium.webdriver.remote.webelement.WebElement (session=\"7c3959b2e22bfcd7e4d1a62094f5dbdd\", element=\"b4f61889-d28d-41bc-a7b1-abdf02838b02\")>]"
      ]
     },
     "execution_count": 66,
     "metadata": {},
     "output_type": "execute_result"
    }
   ],
   "source": [
    "state=driver.find_elements_by_xpath(\"//td[@class='name']\")\n",
    "state[0:10]\n",
    "\n",
    "for i in state:\n",
    "    name=i.text\n",
    "    name_tags.append(name)\n",
    "state[0:10]"
   ]
  },
  {
   "cell_type": "code",
   "execution_count": 67,
   "id": "2f2302ab",
   "metadata": {
    "scrolled": true
   },
   "outputs": [
    {
     "name": "stderr",
     "output_type": "stream",
     "text": [
      "<ipython-input-67-2c183045879c>:1: DeprecationWarning: find_elements_by_* commands are deprecated. Please use find_elements() instead\n",
      "  GSDP=driver.find_elements_by_xpath(\"//td[@class='data sorting_1']\")\n"
     ]
    },
    {
     "data": {
      "text/plain": [
       "[<selenium.webdriver.remote.webelement.WebElement (session=\"7c3959b2e22bfcd7e4d1a62094f5dbdd\", element=\"9d50fd9e-d17b-43c3-88bb-afc5e9566ec8\")>,\n",
       " <selenium.webdriver.remote.webelement.WebElement (session=\"7c3959b2e22bfcd7e4d1a62094f5dbdd\", element=\"881b4b1b-b067-4c51-b99b-71d89b57c27d\")>,\n",
       " <selenium.webdriver.remote.webelement.WebElement (session=\"7c3959b2e22bfcd7e4d1a62094f5dbdd\", element=\"d40a8dc4-7d74-4f84-a737-c8feb43f9ec7\")>,\n",
       " <selenium.webdriver.remote.webelement.WebElement (session=\"7c3959b2e22bfcd7e4d1a62094f5dbdd\", element=\"9c4fb968-c871-4e80-8c43-f82c909d2d02\")>,\n",
       " <selenium.webdriver.remote.webelement.WebElement (session=\"7c3959b2e22bfcd7e4d1a62094f5dbdd\", element=\"82f2bc1c-4211-4fca-b282-5fca4b5c2e28\")>,\n",
       " <selenium.webdriver.remote.webelement.WebElement (session=\"7c3959b2e22bfcd7e4d1a62094f5dbdd\", element=\"6bc2fd46-d33e-4503-8cd7-e135c0d46592\")>,\n",
       " <selenium.webdriver.remote.webelement.WebElement (session=\"7c3959b2e22bfcd7e4d1a62094f5dbdd\", element=\"cecd72f9-0c4e-4636-9533-06d00252fbfd\")>,\n",
       " <selenium.webdriver.remote.webelement.WebElement (session=\"7c3959b2e22bfcd7e4d1a62094f5dbdd\", element=\"187da3d1-966b-4e2f-be67-08e79ddb4ab7\")>,\n",
       " <selenium.webdriver.remote.webelement.WebElement (session=\"7c3959b2e22bfcd7e4d1a62094f5dbdd\", element=\"9ebe5390-a9ee-4d43-8714-9eb518ed1767\")>,\n",
       " <selenium.webdriver.remote.webelement.WebElement (session=\"7c3959b2e22bfcd7e4d1a62094f5dbdd\", element=\"27294c4e-7677-497e-82d2-4a3ff8d8ac13\")>]"
      ]
     },
     "execution_count": 67,
     "metadata": {},
     "output_type": "execute_result"
    }
   ],
   "source": [
    "GSDP=driver.find_elements_by_xpath(\"//td[@class='data sorting_1']\")\n",
    "GSDP[0:10]\n",
    "\n",
    "for i in GSDP:\n",
    "    name=i.text\n",
    "    name_tags.append(name)\n",
    "GSDP[0:10]"
   ]
  },
  {
   "cell_type": "code",
   "execution_count": 69,
   "id": "e82dd386",
   "metadata": {},
   "outputs": [
    {
     "name": "stderr",
     "output_type": "stream",
     "text": [
      "<ipython-input-69-822bad504057>:1: DeprecationWarning: find_elements_by_* commands are deprecated. Please use find_elements() instead\n",
      "  Share=driver.find_elements_by_xpath(\"//td[@class='data']\")\n"
     ]
    },
    {
     "data": {
      "text/plain": [
       "[<selenium.webdriver.remote.webelement.WebElement (session=\"7c3959b2e22bfcd7e4d1a62094f5dbdd\", element=\"70fc5f3e-ea66-4733-8813-b1dd9c32f05d\")>,\n",
       " <selenium.webdriver.remote.webelement.WebElement (session=\"7c3959b2e22bfcd7e4d1a62094f5dbdd\", element=\"7e167ec2-2381-406b-9945-b0c34b6b07e1\")>,\n",
       " <selenium.webdriver.remote.webelement.WebElement (session=\"7c3959b2e22bfcd7e4d1a62094f5dbdd\", element=\"98b2f957-6d59-4ffb-a13f-1e7adf2c73e8\")>,\n",
       " <selenium.webdriver.remote.webelement.WebElement (session=\"7c3959b2e22bfcd7e4d1a62094f5dbdd\", element=\"ee8c9977-9b4a-49b5-ad34-58cd37353202\")>,\n",
       " <selenium.webdriver.remote.webelement.WebElement (session=\"7c3959b2e22bfcd7e4d1a62094f5dbdd\", element=\"75bc8ebe-2d03-4081-944a-93f39dabbd5f\")>,\n",
       " <selenium.webdriver.remote.webelement.WebElement (session=\"7c3959b2e22bfcd7e4d1a62094f5dbdd\", element=\"cf4fb220-a27f-436d-ad6d-84c9623e5508\")>,\n",
       " <selenium.webdriver.remote.webelement.WebElement (session=\"7c3959b2e22bfcd7e4d1a62094f5dbdd\", element=\"51e28fc5-4128-4b58-8c57-822fbb467a61\")>,\n",
       " <selenium.webdriver.remote.webelement.WebElement (session=\"7c3959b2e22bfcd7e4d1a62094f5dbdd\", element=\"b5d1bb0b-6c59-4db9-85db-448cd4f9d87a\")>,\n",
       " <selenium.webdriver.remote.webelement.WebElement (session=\"7c3959b2e22bfcd7e4d1a62094f5dbdd\", element=\"9c03bc5c-e2bf-4347-8418-70b74804ce95\")>,\n",
       " <selenium.webdriver.remote.webelement.WebElement (session=\"7c3959b2e22bfcd7e4d1a62094f5dbdd\", element=\"8053ee52-054c-4cc3-9ccd-d7d8fef19e75\")>]"
      ]
     },
     "execution_count": 69,
     "metadata": {},
     "output_type": "execute_result"
    }
   ],
   "source": [
    "Share=driver.find_elements_by_xpath(\"//td[@class='data']\")\n",
    "Share[0:10]\n",
    "\n",
    "for i in Share:\n",
    "    name=i.text\n",
    "    name_tags.append(name)\n",
    "Share[0:10]"
   ]
  },
  {
   "cell_type": "code",
   "execution_count": 70,
   "id": "2acbaef9",
   "metadata": {},
   "outputs": [
    {
     "name": "stderr",
     "output_type": "stream",
     "text": [
      "<ipython-input-70-2b977f8dc1e0>:1: DeprecationWarning: find_elements_by_* commands are deprecated. Please use find_elements() instead\n",
      "  GDP=driver.find_elements_by_xpath(\"//td[@class='data']\")\n"
     ]
    },
    {
     "data": {
      "text/plain": [
       "[<selenium.webdriver.remote.webelement.WebElement (session=\"7c3959b2e22bfcd7e4d1a62094f5dbdd\", element=\"70fc5f3e-ea66-4733-8813-b1dd9c32f05d\")>,\n",
       " <selenium.webdriver.remote.webelement.WebElement (session=\"7c3959b2e22bfcd7e4d1a62094f5dbdd\", element=\"7e167ec2-2381-406b-9945-b0c34b6b07e1\")>,\n",
       " <selenium.webdriver.remote.webelement.WebElement (session=\"7c3959b2e22bfcd7e4d1a62094f5dbdd\", element=\"98b2f957-6d59-4ffb-a13f-1e7adf2c73e8\")>,\n",
       " <selenium.webdriver.remote.webelement.WebElement (session=\"7c3959b2e22bfcd7e4d1a62094f5dbdd\", element=\"ee8c9977-9b4a-49b5-ad34-58cd37353202\")>,\n",
       " <selenium.webdriver.remote.webelement.WebElement (session=\"7c3959b2e22bfcd7e4d1a62094f5dbdd\", element=\"75bc8ebe-2d03-4081-944a-93f39dabbd5f\")>,\n",
       " <selenium.webdriver.remote.webelement.WebElement (session=\"7c3959b2e22bfcd7e4d1a62094f5dbdd\", element=\"cf4fb220-a27f-436d-ad6d-84c9623e5508\")>,\n",
       " <selenium.webdriver.remote.webelement.WebElement (session=\"7c3959b2e22bfcd7e4d1a62094f5dbdd\", element=\"51e28fc5-4128-4b58-8c57-822fbb467a61\")>,\n",
       " <selenium.webdriver.remote.webelement.WebElement (session=\"7c3959b2e22bfcd7e4d1a62094f5dbdd\", element=\"b5d1bb0b-6c59-4db9-85db-448cd4f9d87a\")>,\n",
       " <selenium.webdriver.remote.webelement.WebElement (session=\"7c3959b2e22bfcd7e4d1a62094f5dbdd\", element=\"9c03bc5c-e2bf-4347-8418-70b74804ce95\")>,\n",
       " <selenium.webdriver.remote.webelement.WebElement (session=\"7c3959b2e22bfcd7e4d1a62094f5dbdd\", element=\"8053ee52-054c-4cc3-9ccd-d7d8fef19e75\")>]"
      ]
     },
     "execution_count": 70,
     "metadata": {},
     "output_type": "execute_result"
    }
   ],
   "source": [
    "GDP=driver.find_elements_by_xpath(\"//td[@class='data']\")\n",
    "GDP[0:10]\n",
    "\n",
    "for i in GDP:\n",
    "    name=i.text\n",
    "    name_tags.append(name)\n",
    "GDP[0:10]"
   ]
  },
  {
   "cell_type": "code",
   "execution_count": 72,
   "id": "adca6768",
   "metadata": {},
   "outputs": [],
   "source": [
    "import pandas as pd"
   ]
  },
  {
   "cell_type": "code",
   "execution_count": 73,
   "id": "953c047f",
   "metadata": {},
   "outputs": [
    {
     "data": {
      "text/html": [
       "<div>\n",
       "<style scoped>\n",
       "    .dataframe tbody tr th:only-of-type {\n",
       "        vertical-align: middle;\n",
       "    }\n",
       "\n",
       "    .dataframe tbody tr th {\n",
       "        vertical-align: top;\n",
       "    }\n",
       "\n",
       "    .dataframe thead th {\n",
       "        text-align: right;\n",
       "    }\n",
       "</style>\n",
       "<table border=\"1\" class=\"dataframe\">\n",
       "  <thead>\n",
       "    <tr style=\"text-align: right;\">\n",
       "      <th></th>\n",
       "      <th>rank</th>\n",
       "      <th>state</th>\n",
       "      <th>GSDP</th>\n",
       "      <th>Share</th>\n",
       "      <th>GDP</th>\n",
       "    </tr>\n",
       "  </thead>\n",
       "  <tbody>\n",
       "    <tr>\n",
       "      <th>0</th>\n",
       "      <td>&lt;selenium.webdriver.remote.webelement.WebEleme...</td>\n",
       "      <td>&lt;selenium.webdriver.remote.webelement.WebEleme...</td>\n",
       "      <td>&lt;selenium.webdriver.remote.webelement.WebEleme...</td>\n",
       "      <td>&lt;selenium.webdriver.remote.webelement.WebEleme...</td>\n",
       "      <td>&lt;selenium.webdriver.remote.webelement.WebEleme...</td>\n",
       "    </tr>\n",
       "    <tr>\n",
       "      <th>1</th>\n",
       "      <td>&lt;selenium.webdriver.remote.webelement.WebEleme...</td>\n",
       "      <td>&lt;selenium.webdriver.remote.webelement.WebEleme...</td>\n",
       "      <td>&lt;selenium.webdriver.remote.webelement.WebEleme...</td>\n",
       "      <td>&lt;selenium.webdriver.remote.webelement.WebEleme...</td>\n",
       "      <td>&lt;selenium.webdriver.remote.webelement.WebEleme...</td>\n",
       "    </tr>\n",
       "    <tr>\n",
       "      <th>2</th>\n",
       "      <td>&lt;selenium.webdriver.remote.webelement.WebEleme...</td>\n",
       "      <td>&lt;selenium.webdriver.remote.webelement.WebEleme...</td>\n",
       "      <td>&lt;selenium.webdriver.remote.webelement.WebEleme...</td>\n",
       "      <td>&lt;selenium.webdriver.remote.webelement.WebEleme...</td>\n",
       "      <td>&lt;selenium.webdriver.remote.webelement.WebEleme...</td>\n",
       "    </tr>\n",
       "    <tr>\n",
       "      <th>3</th>\n",
       "      <td>&lt;selenium.webdriver.remote.webelement.WebEleme...</td>\n",
       "      <td>&lt;selenium.webdriver.remote.webelement.WebEleme...</td>\n",
       "      <td>&lt;selenium.webdriver.remote.webelement.WebEleme...</td>\n",
       "      <td>&lt;selenium.webdriver.remote.webelement.WebEleme...</td>\n",
       "      <td>&lt;selenium.webdriver.remote.webelement.WebEleme...</td>\n",
       "    </tr>\n",
       "    <tr>\n",
       "      <th>4</th>\n",
       "      <td>&lt;selenium.webdriver.remote.webelement.WebEleme...</td>\n",
       "      <td>&lt;selenium.webdriver.remote.webelement.WebEleme...</td>\n",
       "      <td>&lt;selenium.webdriver.remote.webelement.WebEleme...</td>\n",
       "      <td>&lt;selenium.webdriver.remote.webelement.WebEleme...</td>\n",
       "      <td>&lt;selenium.webdriver.remote.webelement.WebEleme...</td>\n",
       "    </tr>\n",
       "    <tr>\n",
       "      <th>5</th>\n",
       "      <td>&lt;selenium.webdriver.remote.webelement.WebEleme...</td>\n",
       "      <td>&lt;selenium.webdriver.remote.webelement.WebEleme...</td>\n",
       "      <td>&lt;selenium.webdriver.remote.webelement.WebEleme...</td>\n",
       "      <td>&lt;selenium.webdriver.remote.webelement.WebEleme...</td>\n",
       "      <td>&lt;selenium.webdriver.remote.webelement.WebEleme...</td>\n",
       "    </tr>\n",
       "    <tr>\n",
       "      <th>6</th>\n",
       "      <td>&lt;selenium.webdriver.remote.webelement.WebEleme...</td>\n",
       "      <td>&lt;selenium.webdriver.remote.webelement.WebEleme...</td>\n",
       "      <td>&lt;selenium.webdriver.remote.webelement.WebEleme...</td>\n",
       "      <td>&lt;selenium.webdriver.remote.webelement.WebEleme...</td>\n",
       "      <td>&lt;selenium.webdriver.remote.webelement.WebEleme...</td>\n",
       "    </tr>\n",
       "    <tr>\n",
       "      <th>7</th>\n",
       "      <td>&lt;selenium.webdriver.remote.webelement.WebEleme...</td>\n",
       "      <td>&lt;selenium.webdriver.remote.webelement.WebEleme...</td>\n",
       "      <td>&lt;selenium.webdriver.remote.webelement.WebEleme...</td>\n",
       "      <td>&lt;selenium.webdriver.remote.webelement.WebEleme...</td>\n",
       "      <td>&lt;selenium.webdriver.remote.webelement.WebEleme...</td>\n",
       "    </tr>\n",
       "    <tr>\n",
       "      <th>8</th>\n",
       "      <td>&lt;selenium.webdriver.remote.webelement.WebEleme...</td>\n",
       "      <td>&lt;selenium.webdriver.remote.webelement.WebEleme...</td>\n",
       "      <td>&lt;selenium.webdriver.remote.webelement.WebEleme...</td>\n",
       "      <td>&lt;selenium.webdriver.remote.webelement.WebEleme...</td>\n",
       "      <td>&lt;selenium.webdriver.remote.webelement.WebEleme...</td>\n",
       "    </tr>\n",
       "    <tr>\n",
       "      <th>9</th>\n",
       "      <td>&lt;selenium.webdriver.remote.webelement.WebEleme...</td>\n",
       "      <td>&lt;selenium.webdriver.remote.webelement.WebEleme...</td>\n",
       "      <td>&lt;selenium.webdriver.remote.webelement.WebEleme...</td>\n",
       "      <td>&lt;selenium.webdriver.remote.webelement.WebEleme...</td>\n",
       "      <td>&lt;selenium.webdriver.remote.webelement.WebEleme...</td>\n",
       "    </tr>\n",
       "  </tbody>\n",
       "</table>\n",
       "</div>"
      ],
      "text/plain": [
       "                                                rank  \\\n",
       "0  <selenium.webdriver.remote.webelement.WebEleme...   \n",
       "1  <selenium.webdriver.remote.webelement.WebEleme...   \n",
       "2  <selenium.webdriver.remote.webelement.WebEleme...   \n",
       "3  <selenium.webdriver.remote.webelement.WebEleme...   \n",
       "4  <selenium.webdriver.remote.webelement.WebEleme...   \n",
       "5  <selenium.webdriver.remote.webelement.WebEleme...   \n",
       "6  <selenium.webdriver.remote.webelement.WebEleme...   \n",
       "7  <selenium.webdriver.remote.webelement.WebEleme...   \n",
       "8  <selenium.webdriver.remote.webelement.WebEleme...   \n",
       "9  <selenium.webdriver.remote.webelement.WebEleme...   \n",
       "\n",
       "                                               state  \\\n",
       "0  <selenium.webdriver.remote.webelement.WebEleme...   \n",
       "1  <selenium.webdriver.remote.webelement.WebEleme...   \n",
       "2  <selenium.webdriver.remote.webelement.WebEleme...   \n",
       "3  <selenium.webdriver.remote.webelement.WebEleme...   \n",
       "4  <selenium.webdriver.remote.webelement.WebEleme...   \n",
       "5  <selenium.webdriver.remote.webelement.WebEleme...   \n",
       "6  <selenium.webdriver.remote.webelement.WebEleme...   \n",
       "7  <selenium.webdriver.remote.webelement.WebEleme...   \n",
       "8  <selenium.webdriver.remote.webelement.WebEleme...   \n",
       "9  <selenium.webdriver.remote.webelement.WebEleme...   \n",
       "\n",
       "                                                GSDP  \\\n",
       "0  <selenium.webdriver.remote.webelement.WebEleme...   \n",
       "1  <selenium.webdriver.remote.webelement.WebEleme...   \n",
       "2  <selenium.webdriver.remote.webelement.WebEleme...   \n",
       "3  <selenium.webdriver.remote.webelement.WebEleme...   \n",
       "4  <selenium.webdriver.remote.webelement.WebEleme...   \n",
       "5  <selenium.webdriver.remote.webelement.WebEleme...   \n",
       "6  <selenium.webdriver.remote.webelement.WebEleme...   \n",
       "7  <selenium.webdriver.remote.webelement.WebEleme...   \n",
       "8  <selenium.webdriver.remote.webelement.WebEleme...   \n",
       "9  <selenium.webdriver.remote.webelement.WebEleme...   \n",
       "\n",
       "                                               Share  \\\n",
       "0  <selenium.webdriver.remote.webelement.WebEleme...   \n",
       "1  <selenium.webdriver.remote.webelement.WebEleme...   \n",
       "2  <selenium.webdriver.remote.webelement.WebEleme...   \n",
       "3  <selenium.webdriver.remote.webelement.WebEleme...   \n",
       "4  <selenium.webdriver.remote.webelement.WebEleme...   \n",
       "5  <selenium.webdriver.remote.webelement.WebEleme...   \n",
       "6  <selenium.webdriver.remote.webelement.WebEleme...   \n",
       "7  <selenium.webdriver.remote.webelement.WebEleme...   \n",
       "8  <selenium.webdriver.remote.webelement.WebEleme...   \n",
       "9  <selenium.webdriver.remote.webelement.WebEleme...   \n",
       "\n",
       "                                                 GDP  \n",
       "0  <selenium.webdriver.remote.webelement.WebEleme...  \n",
       "1  <selenium.webdriver.remote.webelement.WebEleme...  \n",
       "2  <selenium.webdriver.remote.webelement.WebEleme...  \n",
       "3  <selenium.webdriver.remote.webelement.WebEleme...  \n",
       "4  <selenium.webdriver.remote.webelement.WebEleme...  \n",
       "5  <selenium.webdriver.remote.webelement.WebEleme...  \n",
       "6  <selenium.webdriver.remote.webelement.WebEleme...  \n",
       "7  <selenium.webdriver.remote.webelement.WebEleme...  \n",
       "8  <selenium.webdriver.remote.webelement.WebEleme...  \n",
       "9  <selenium.webdriver.remote.webelement.WebEleme...  "
      ]
     },
     "execution_count": 73,
     "metadata": {},
     "output_type": "execute_result"
    }
   ],
   "source": [
    "import pandas as pd\n",
    "df=pd.DataFrame({\"rank\":rank[0:10],\"state\":state[0:10],\"GSDP\":GSDP[0:10],\n",
    "                \"Share\":Share[0:10],\"GDP\":GDP[0:10]})\n",
    "df"
   ]
  },
  {
   "cell_type": "markdown",
   "id": "9ee1cf53",
   "metadata": {},
   "source": [
    "Q5 Scrape the details of trending repositories on Github.com.\n",
    "Url = https://github.com/\n",
    "You have to find the following details:\n",
    "A) Repository title\n",
    "B) Repository description\n",
    "C) Contributors count\n",
    "D) Language used"
   ]
  },
  {
   "cell_type": "code",
   "execution_count": 74,
   "id": "401c5497",
   "metadata": {},
   "outputs": [
    {
     "name": "stderr",
     "output_type": "stream",
     "text": [
      "<ipython-input-74-42874abe759a>:1: DeprecationWarning: executable_path has been deprecated, please pass in a Service object\n",
      "  driver = webdriver.Chrome(r\"E:\\chromedriver_win32/chromedriver.exe\")\n"
     ]
    }
   ],
   "source": [
    "driver = webdriver.Chrome(r\"E:\\chromedriver_win32/chromedriver.exe\")\n",
    "\n",
    "driver.get('https://github.com/')"
   ]
  },
  {
   "cell_type": "code",
   "execution_count": 75,
   "id": "06f325fb",
   "metadata": {},
   "outputs": [],
   "source": [
    "repository_title=[]\n",
    "repository_description=[]\n",
    "contribution_count=[]\n",
    "language_used=[]"
   ]
  },
  {
   "cell_type": "code",
   "execution_count": 76,
   "id": "9caa04f4",
   "metadata": {
    "scrolled": true
   },
   "outputs": [
    {
     "name": "stderr",
     "output_type": "stream",
     "text": [
      "<ipython-input-76-03815d9fb951>:1: DeprecationWarning: find_elements_by_* commands are deprecated. Please use find_elements() instead\n",
      "  repository_title=driver.find_elements_by_xpath(\"//h1[@class='h3 lh-condensed']\")\n"
     ]
    },
    {
     "data": {
      "text/plain": [
       "[<selenium.webdriver.remote.webelement.WebElement (session=\"8836d985edda3ad70d41ef1cc30f3922\", element=\"aaeef225-dff2-4d9e-b381-350a052435ba\")>,\n",
       " <selenium.webdriver.remote.webelement.WebElement (session=\"8836d985edda3ad70d41ef1cc30f3922\", element=\"6cd8a97c-d4e0-426e-a574-5f838768eda3\")>,\n",
       " <selenium.webdriver.remote.webelement.WebElement (session=\"8836d985edda3ad70d41ef1cc30f3922\", element=\"8cbfcbc1-1aa6-496f-882b-01c9224ae4a1\")>,\n",
       " <selenium.webdriver.remote.webelement.WebElement (session=\"8836d985edda3ad70d41ef1cc30f3922\", element=\"4c226339-d77b-43bb-9916-13dd02c5ecbb\")>,\n",
       " <selenium.webdriver.remote.webelement.WebElement (session=\"8836d985edda3ad70d41ef1cc30f3922\", element=\"e4503282-ba64-4e61-ae02-64ac04477454\")>,\n",
       " <selenium.webdriver.remote.webelement.WebElement (session=\"8836d985edda3ad70d41ef1cc30f3922\", element=\"1c7f2bc0-11f6-46d6-aaa1-dc2af8028c8a\")>,\n",
       " <selenium.webdriver.remote.webelement.WebElement (session=\"8836d985edda3ad70d41ef1cc30f3922\", element=\"fefecea9-0a91-45be-b61c-d286fe56afc5\")>,\n",
       " <selenium.webdriver.remote.webelement.WebElement (session=\"8836d985edda3ad70d41ef1cc30f3922\", element=\"4d3b68ae-faf8-4ab9-9ab0-c1894c4567b3\")>,\n",
       " <selenium.webdriver.remote.webelement.WebElement (session=\"8836d985edda3ad70d41ef1cc30f3922\", element=\"8ec87c3a-b0b7-4074-95df-5a283958e685\")>,\n",
       " <selenium.webdriver.remote.webelement.WebElement (session=\"8836d985edda3ad70d41ef1cc30f3922\", element=\"8e631772-6239-4bc4-b567-c038d396ea92\")>]"
      ]
     },
     "execution_count": 76,
     "metadata": {},
     "output_type": "execute_result"
    }
   ],
   "source": [
    "repository_title=driver.find_elements_by_xpath(\"//h1[@class='h3 lh-condensed']\")\n",
    "repository_title[0:10]\n",
    "\n",
    "for i in repository_title:\n",
    "    name=i.text\n",
    "    name_tags.append(name)\n",
    "repository_title[0:10]"
   ]
  },
  {
   "cell_type": "code",
   "execution_count": 77,
   "id": "bce069b2",
   "metadata": {
    "scrolled": true
   },
   "outputs": [
    {
     "name": "stderr",
     "output_type": "stream",
     "text": [
      "<ipython-input-77-74407a7de0ec>:1: DeprecationWarning: find_elements_by_* commands are deprecated. Please use find_elements() instead\n",
      "  repository_description=driver.find_elements_by_xpath(\"//p[@class='col-9 color-fg-muted my-1 pr-4']\")\n"
     ]
    },
    {
     "data": {
      "text/plain": [
       "[<selenium.webdriver.remote.webelement.WebElement (session=\"8836d985edda3ad70d41ef1cc30f3922\", element=\"2f5ea587-61ec-45a2-b353-f778ca9d15f7\")>,\n",
       " <selenium.webdriver.remote.webelement.WebElement (session=\"8836d985edda3ad70d41ef1cc30f3922\", element=\"0cc14382-a9a9-4508-8856-af0b4e0c209f\")>,\n",
       " <selenium.webdriver.remote.webelement.WebElement (session=\"8836d985edda3ad70d41ef1cc30f3922\", element=\"42c80114-6d09-46c3-ab66-ec84c579f7c9\")>,\n",
       " <selenium.webdriver.remote.webelement.WebElement (session=\"8836d985edda3ad70d41ef1cc30f3922\", element=\"1f6408dd-89d1-42f3-ad8c-4fa96eac9a02\")>,\n",
       " <selenium.webdriver.remote.webelement.WebElement (session=\"8836d985edda3ad70d41ef1cc30f3922\", element=\"d3b1a307-c533-4464-af8a-b8d06f1e5cc6\")>,\n",
       " <selenium.webdriver.remote.webelement.WebElement (session=\"8836d985edda3ad70d41ef1cc30f3922\", element=\"43cc1fcd-7e3d-4861-9442-ba43e6fef1b8\")>,\n",
       " <selenium.webdriver.remote.webelement.WebElement (session=\"8836d985edda3ad70d41ef1cc30f3922\", element=\"051e6a35-d59e-4d95-a416-8f32769aa782\")>,\n",
       " <selenium.webdriver.remote.webelement.WebElement (session=\"8836d985edda3ad70d41ef1cc30f3922\", element=\"3e2c8d2f-11e0-4bc0-b499-61d48e2d9179\")>,\n",
       " <selenium.webdriver.remote.webelement.WebElement (session=\"8836d985edda3ad70d41ef1cc30f3922\", element=\"67e618cc-e112-4ccf-9472-426b7a241136\")>,\n",
       " <selenium.webdriver.remote.webelement.WebElement (session=\"8836d985edda3ad70d41ef1cc30f3922\", element=\"c5a4f56e-5107-423b-9d0b-7c2f3e089c91\")>]"
      ]
     },
     "execution_count": 77,
     "metadata": {},
     "output_type": "execute_result"
    }
   ],
   "source": [
    "repository_description=driver.find_elements_by_xpath(\"//p[@class='col-9 color-fg-muted my-1 pr-4']\")\n",
    "repository_description[0:10]\n",
    "\n",
    "for i in repository_description:\n",
    "    name=i.text\n",
    "    name_tags.append(name)\n",
    "repository_description[0:10]"
   ]
  },
  {
   "cell_type": "code",
   "execution_count": 78,
   "id": "0a87492f",
   "metadata": {},
   "outputs": [
    {
     "name": "stderr",
     "output_type": "stream",
     "text": [
      "<ipython-input-78-5c2e8d66c02b>:1: DeprecationWarning: find_elements_by_* commands are deprecated. Please use find_elements() instead\n",
      "  contribution_count=driver.find_elements_by_xpath(\"//a[@class='Link--muted d-inline-block mr-3']\")\n"
     ]
    },
    {
     "data": {
      "text/plain": [
       "[<selenium.webdriver.remote.webelement.WebElement (session=\"8836d985edda3ad70d41ef1cc30f3922\", element=\"f37dd9d6-9f46-4b22-9aba-f8afdc8acf96\")>,\n",
       " <selenium.webdriver.remote.webelement.WebElement (session=\"8836d985edda3ad70d41ef1cc30f3922\", element=\"cadb086b-900d-4d6c-8e56-beccf79e42ec\")>,\n",
       " <selenium.webdriver.remote.webelement.WebElement (session=\"8836d985edda3ad70d41ef1cc30f3922\", element=\"1fd48863-89a8-47a4-9563-ee2452a244cd\")>,\n",
       " <selenium.webdriver.remote.webelement.WebElement (session=\"8836d985edda3ad70d41ef1cc30f3922\", element=\"e770d717-eb50-4ac1-b699-07ca7e36401d\")>,\n",
       " <selenium.webdriver.remote.webelement.WebElement (session=\"8836d985edda3ad70d41ef1cc30f3922\", element=\"48b20565-d256-4063-9af5-131ecaef161f\")>,\n",
       " <selenium.webdriver.remote.webelement.WebElement (session=\"8836d985edda3ad70d41ef1cc30f3922\", element=\"3902a733-c822-4ea9-ac9a-3d544076cb8d\")>,\n",
       " <selenium.webdriver.remote.webelement.WebElement (session=\"8836d985edda3ad70d41ef1cc30f3922\", element=\"c7967e20-9d66-4cd9-8a04-183c49ede226\")>,\n",
       " <selenium.webdriver.remote.webelement.WebElement (session=\"8836d985edda3ad70d41ef1cc30f3922\", element=\"6ea91658-6d79-4004-9e5b-796728ab1bb0\")>,\n",
       " <selenium.webdriver.remote.webelement.WebElement (session=\"8836d985edda3ad70d41ef1cc30f3922\", element=\"a336cdb3-4d1d-403f-9537-1f5fcddb0333\")>,\n",
       " <selenium.webdriver.remote.webelement.WebElement (session=\"8836d985edda3ad70d41ef1cc30f3922\", element=\"e03c0c96-3126-42fd-9bc3-6050d171b296\")>]"
      ]
     },
     "execution_count": 78,
     "metadata": {},
     "output_type": "execute_result"
    }
   ],
   "source": [
    "contribution_count=driver.find_elements_by_xpath(\"//a[@class='Link--muted d-inline-block mr-3']\")\n",
    "contribution_count[0:10]\n",
    "\n",
    "for i in contribution_count:\n",
    "    name=i.text\n",
    "    name_tags.append(name)\n",
    "contribution_count[0:10]"
   ]
  },
  {
   "cell_type": "code",
   "execution_count": 79,
   "id": "5037ef0c",
   "metadata": {},
   "outputs": [
    {
     "name": "stderr",
     "output_type": "stream",
     "text": [
      "<ipython-input-79-9e576a1d4449>:1: DeprecationWarning: find_elements_by_* commands are deprecated. Please use find_elements() instead\n",
      "  language_used=driver.find_elements_by_xpath(\"//a[@class='d-inline-block ml-0 mr-3']/span[1]\")\n"
     ]
    },
    {
     "data": {
      "text/plain": [
       "[]"
      ]
     },
     "execution_count": 79,
     "metadata": {},
     "output_type": "execute_result"
    }
   ],
   "source": [
    "\n",
    "language_used=driver.find_elements_by_xpath(\"//a[@class='d-inline-block ml-0 mr-3']/span[1]\")\n",
    "language_used[0:10]\n",
    "\n",
    "for i in language_used:\n",
    "    name=i.text\n",
    "    name_tags.append(name)\n",
    "language_used[0:10]"
   ]
  },
  {
   "cell_type": "code",
   "execution_count": 81,
   "id": "4ab1e77c",
   "metadata": {},
   "outputs": [
    {
     "ename": "ValueError",
     "evalue": "arrays must all be same length",
     "output_type": "error",
     "traceback": [
      "\u001b[1;31m---------------------------------------------------------------------------\u001b[0m",
      "\u001b[1;31mValueError\u001b[0m                                Traceback (most recent call last)",
      "\u001b[1;32m<ipython-input-81-f7256629f84c>\u001b[0m in \u001b[0;36m<module>\u001b[1;34m\u001b[0m\n\u001b[0;32m      1\u001b[0m \u001b[1;32mimport\u001b[0m \u001b[0mpandas\u001b[0m \u001b[1;32mas\u001b[0m \u001b[0mpd\u001b[0m\u001b[1;33m\u001b[0m\u001b[1;33m\u001b[0m\u001b[0m\n\u001b[1;32m----> 2\u001b[1;33m df=pd.DataFrame({\"repository_title\":repository_title[0:10],\"repository_description\":repository_description[0:10],\"contribution_count\":contribution_count[0:10],\n\u001b[0m\u001b[0;32m      3\u001b[0m                 \"language_used\":language_used[0:10]})\n\u001b[0;32m      4\u001b[0m \u001b[0mdf\u001b[0m\u001b[1;33m\u001b[0m\u001b[1;33m\u001b[0m\u001b[0m\n",
      "\u001b[1;32mC:\\ProgramData\\Anaconda3\\lib\\site-packages\\pandas\\core\\frame.py\u001b[0m in \u001b[0;36m__init__\u001b[1;34m(self, data, index, columns, dtype, copy)\u001b[0m\n\u001b[0;32m    527\u001b[0m \u001b[1;33m\u001b[0m\u001b[0m\n\u001b[0;32m    528\u001b[0m         \u001b[1;32melif\u001b[0m \u001b[0misinstance\u001b[0m\u001b[1;33m(\u001b[0m\u001b[0mdata\u001b[0m\u001b[1;33m,\u001b[0m \u001b[0mdict\u001b[0m\u001b[1;33m)\u001b[0m\u001b[1;33m:\u001b[0m\u001b[1;33m\u001b[0m\u001b[1;33m\u001b[0m\u001b[0m\n\u001b[1;32m--> 529\u001b[1;33m             \u001b[0mmgr\u001b[0m \u001b[1;33m=\u001b[0m \u001b[0minit_dict\u001b[0m\u001b[1;33m(\u001b[0m\u001b[0mdata\u001b[0m\u001b[1;33m,\u001b[0m \u001b[0mindex\u001b[0m\u001b[1;33m,\u001b[0m \u001b[0mcolumns\u001b[0m\u001b[1;33m,\u001b[0m \u001b[0mdtype\u001b[0m\u001b[1;33m=\u001b[0m\u001b[0mdtype\u001b[0m\u001b[1;33m)\u001b[0m\u001b[1;33m\u001b[0m\u001b[1;33m\u001b[0m\u001b[0m\n\u001b[0m\u001b[0;32m    530\u001b[0m         \u001b[1;32melif\u001b[0m \u001b[0misinstance\u001b[0m\u001b[1;33m(\u001b[0m\u001b[0mdata\u001b[0m\u001b[1;33m,\u001b[0m \u001b[0mma\u001b[0m\u001b[1;33m.\u001b[0m\u001b[0mMaskedArray\u001b[0m\u001b[1;33m)\u001b[0m\u001b[1;33m:\u001b[0m\u001b[1;33m\u001b[0m\u001b[1;33m\u001b[0m\u001b[0m\n\u001b[0;32m    531\u001b[0m             \u001b[1;32mimport\u001b[0m \u001b[0mnumpy\u001b[0m\u001b[1;33m.\u001b[0m\u001b[0mma\u001b[0m\u001b[1;33m.\u001b[0m\u001b[0mmrecords\u001b[0m \u001b[1;32mas\u001b[0m \u001b[0mmrecords\u001b[0m\u001b[1;33m\u001b[0m\u001b[1;33m\u001b[0m\u001b[0m\n",
      "\u001b[1;32mC:\\ProgramData\\Anaconda3\\lib\\site-packages\\pandas\\core\\internals\\construction.py\u001b[0m in \u001b[0;36minit_dict\u001b[1;34m(data, index, columns, dtype)\u001b[0m\n\u001b[0;32m    285\u001b[0m             \u001b[0marr\u001b[0m \u001b[1;32mif\u001b[0m \u001b[1;32mnot\u001b[0m \u001b[0mis_datetime64tz_dtype\u001b[0m\u001b[1;33m(\u001b[0m\u001b[0marr\u001b[0m\u001b[1;33m)\u001b[0m \u001b[1;32melse\u001b[0m \u001b[0marr\u001b[0m\u001b[1;33m.\u001b[0m\u001b[0mcopy\u001b[0m\u001b[1;33m(\u001b[0m\u001b[1;33m)\u001b[0m \u001b[1;32mfor\u001b[0m \u001b[0marr\u001b[0m \u001b[1;32min\u001b[0m \u001b[0marrays\u001b[0m\u001b[1;33m\u001b[0m\u001b[1;33m\u001b[0m\u001b[0m\n\u001b[0;32m    286\u001b[0m         ]\n\u001b[1;32m--> 287\u001b[1;33m     \u001b[1;32mreturn\u001b[0m \u001b[0marrays_to_mgr\u001b[0m\u001b[1;33m(\u001b[0m\u001b[0marrays\u001b[0m\u001b[1;33m,\u001b[0m \u001b[0mdata_names\u001b[0m\u001b[1;33m,\u001b[0m \u001b[0mindex\u001b[0m\u001b[1;33m,\u001b[0m \u001b[0mcolumns\u001b[0m\u001b[1;33m,\u001b[0m \u001b[0mdtype\u001b[0m\u001b[1;33m=\u001b[0m\u001b[0mdtype\u001b[0m\u001b[1;33m)\u001b[0m\u001b[1;33m\u001b[0m\u001b[1;33m\u001b[0m\u001b[0m\n\u001b[0m\u001b[0;32m    288\u001b[0m \u001b[1;33m\u001b[0m\u001b[0m\n\u001b[0;32m    289\u001b[0m \u001b[1;33m\u001b[0m\u001b[0m\n",
      "\u001b[1;32mC:\\ProgramData\\Anaconda3\\lib\\site-packages\\pandas\\core\\internals\\construction.py\u001b[0m in \u001b[0;36marrays_to_mgr\u001b[1;34m(arrays, arr_names, index, columns, dtype, verify_integrity)\u001b[0m\n\u001b[0;32m     78\u001b[0m         \u001b[1;31m# figure out the index, if necessary\u001b[0m\u001b[1;33m\u001b[0m\u001b[1;33m\u001b[0m\u001b[1;33m\u001b[0m\u001b[0m\n\u001b[0;32m     79\u001b[0m         \u001b[1;32mif\u001b[0m \u001b[0mindex\u001b[0m \u001b[1;32mis\u001b[0m \u001b[1;32mNone\u001b[0m\u001b[1;33m:\u001b[0m\u001b[1;33m\u001b[0m\u001b[1;33m\u001b[0m\u001b[0m\n\u001b[1;32m---> 80\u001b[1;33m             \u001b[0mindex\u001b[0m \u001b[1;33m=\u001b[0m \u001b[0mextract_index\u001b[0m\u001b[1;33m(\u001b[0m\u001b[0marrays\u001b[0m\u001b[1;33m)\u001b[0m\u001b[1;33m\u001b[0m\u001b[1;33m\u001b[0m\u001b[0m\n\u001b[0m\u001b[0;32m     81\u001b[0m         \u001b[1;32melse\u001b[0m\u001b[1;33m:\u001b[0m\u001b[1;33m\u001b[0m\u001b[1;33m\u001b[0m\u001b[0m\n\u001b[0;32m     82\u001b[0m             \u001b[0mindex\u001b[0m \u001b[1;33m=\u001b[0m \u001b[0mensure_index\u001b[0m\u001b[1;33m(\u001b[0m\u001b[0mindex\u001b[0m\u001b[1;33m)\u001b[0m\u001b[1;33m\u001b[0m\u001b[1;33m\u001b[0m\u001b[0m\n",
      "\u001b[1;32mC:\\ProgramData\\Anaconda3\\lib\\site-packages\\pandas\\core\\internals\\construction.py\u001b[0m in \u001b[0;36mextract_index\u001b[1;34m(data)\u001b[0m\n\u001b[0;32m    399\u001b[0m             \u001b[0mlengths\u001b[0m \u001b[1;33m=\u001b[0m \u001b[0mlist\u001b[0m\u001b[1;33m(\u001b[0m\u001b[0mset\u001b[0m\u001b[1;33m(\u001b[0m\u001b[0mraw_lengths\u001b[0m\u001b[1;33m)\u001b[0m\u001b[1;33m)\u001b[0m\u001b[1;33m\u001b[0m\u001b[1;33m\u001b[0m\u001b[0m\n\u001b[0;32m    400\u001b[0m             \u001b[1;32mif\u001b[0m \u001b[0mlen\u001b[0m\u001b[1;33m(\u001b[0m\u001b[0mlengths\u001b[0m\u001b[1;33m)\u001b[0m \u001b[1;33m>\u001b[0m \u001b[1;36m1\u001b[0m\u001b[1;33m:\u001b[0m\u001b[1;33m\u001b[0m\u001b[1;33m\u001b[0m\u001b[0m\n\u001b[1;32m--> 401\u001b[1;33m                 \u001b[1;32mraise\u001b[0m \u001b[0mValueError\u001b[0m\u001b[1;33m(\u001b[0m\u001b[1;34m\"arrays must all be same length\"\u001b[0m\u001b[1;33m)\u001b[0m\u001b[1;33m\u001b[0m\u001b[1;33m\u001b[0m\u001b[0m\n\u001b[0m\u001b[0;32m    402\u001b[0m \u001b[1;33m\u001b[0m\u001b[0m\n\u001b[0;32m    403\u001b[0m             \u001b[1;32mif\u001b[0m \u001b[0mhave_dicts\u001b[0m\u001b[1;33m:\u001b[0m\u001b[1;33m\u001b[0m\u001b[1;33m\u001b[0m\u001b[0m\n",
      "\u001b[1;31mValueError\u001b[0m: arrays must all be same length"
     ]
    }
   ],
   "source": [
    "import pandas as pd\n",
    "df=pd.DataFrame({\"repository_title\":repository_title[0:10],\"repository_description\":repository_description[0:10],\"contribution_count\":contribution_count[0:10],\n",
    "                \"language_used\":language_used[0:10]})\n",
    "df"
   ]
  },
  {
   "cell_type": "markdown",
   "id": "82602b21",
   "metadata": {},
   "source": [
    "Q6 Scrape the details of top 100 songs on billiboard.com.\n",
    "Url = https:/www.billboard.com/\n",
    "You have to find the following details:\n",
    "A) Song name\n",
    "B) Artist name\n",
    "C) Last week rank\n",
    "D) Peak rank\n",
    "E) Weeks on board"
   ]
  },
  {
   "cell_type": "code",
   "execution_count": 43,
   "id": "34750934",
   "metadata": {
    "scrolled": true
   },
   "outputs": [
    {
     "name": "stderr",
     "output_type": "stream",
     "text": [
      "<ipython-input-43-1d8bf970cc8a>:1: DeprecationWarning: executable_path has been deprecated, please pass in a Service object\n",
      "  driver = webdriver.Chrome(r\"E:\\chromedriver_win32/chromedriver.exe\")\n"
     ]
    }
   ],
   "source": [
    "driver = webdriver.Chrome(r\"E:\\chromedriver_win32/chromedriver.exe\")\n",
    "\n",
    "driver.get('https:/www.billboard.com/')"
   ]
  },
  {
   "cell_type": "code",
   "execution_count": null,
   "id": "4293cf27",
   "metadata": {},
   "outputs": [],
   "source": []
  },
  {
   "cell_type": "code",
   "execution_count": 49,
   "id": "31fdd597",
   "metadata": {},
   "outputs": [],
   "source": [
    "song_name=[]\n",
    "artist_name=[]\n",
    "last_week_rank=[]\n",
    "peak_rank=[]\n",
    "week_of_board=[]"
   ]
  },
  {
   "cell_type": "code",
   "execution_count": 51,
   "id": "18c93301",
   "metadata": {},
   "outputs": [
    {
     "name": "stderr",
     "output_type": "stream",
     "text": [
      "<ipython-input-51-29ff55059b1c>:1: DeprecationWarning: find_elements_by_* commands are deprecated. Please use find_elements() instead\n",
      "  song_name=driver.find_elements_by_xpath(\"//li[@class='c-title  a-no-trucate a-font-primary-bold-s u-letter-spacing-0021 u-font-size-23@tablet lrv-u-font-size-16 u-line-height-125 u-line-height-normal@mobile-max a-truncate-ellipsis u-max-width-245 u-max-width-230@tablet-only u-letter-spacing-0028@tablet']/span[1]\")\n"
     ]
    }
   ],
   "source": [
    "song_name=driver.find_elements_by_xpath(\"//li[@class='c-title  a-no-trucate a-font-primary-bold-s u-letter-spacing-0021 u-font-size-23@tablet lrv-u-font-size-16 u-line-height-125 u-line-height-normal@mobile-max a-truncate-ellipsis u-max-width-245 u-max-width-230@tablet-only u-letter-spacing-0028@tablet']/span[1]\")\n",
    "song_name[0:4]\n",
    "\n",
    "for i in song_name:\n",
    "    title=i.text\n",
    "    song_name.append(title)\n"
   ]
  },
  {
   "cell_type": "code",
   "execution_count": 52,
   "id": "3136d0b9",
   "metadata": {},
   "outputs": [
    {
     "name": "stderr",
     "output_type": "stream",
     "text": [
      "<ipython-input-52-fcf6b4956a72>:1: DeprecationWarning: find_elements_by_* commands are deprecated. Please use find_elements() instead\n",
      "  artist_name=driver.find_elements_by_xpath(\"//li[@class='c-label  a-no-trucate a-font-primary-s lrv-u-font-size-14@mobile-max u-line-height-normal@mobile-max u-letter-spacing-0021 lrv-u-display-block a-truncate-ellipsis-2line u-max-width-330 u-max-width-230@tablet-only u-font-size-20@tablet']/span[1]\")\n"
     ]
    }
   ],
   "source": [
    "artist_name=driver.find_elements_by_xpath(\"//li[@class='c-label  a-no-trucate a-font-primary-s lrv-u-font-size-14@mobile-max u-line-height-normal@mobile-max u-letter-spacing-0021 lrv-u-display-block a-truncate-ellipsis-2line u-max-width-330 u-max-width-230@tablet-only u-font-size-20@tablet']/span[1]\")\n",
    "artist_name[0:4]\n",
    "\n",
    "for i in artist_name:\n",
    "    title=i.text\n",
    "    artist_name.append(title)"
   ]
  },
  {
   "cell_type": "code",
   "execution_count": 54,
   "id": "8b20f91d",
   "metadata": {},
   "outputs": [
    {
     "name": "stderr",
     "output_type": "stream",
     "text": [
      "<ipython-input-54-ddce93497f08>:1: DeprecationWarning: find_elements_by_* commands are deprecated. Please use find_elements() instead\n",
      "  last_week_rank=driver.find_elements_by_xpath(\"//li[@class='c-label  a-font-primary-bold-l a-font-primary-m@mobile-max u-font-weight-normal@mobile-max lrv-u-padding-tb-050@mobile-max u-font-size-32@tablet']/span[1]\")\n"
     ]
    }
   ],
   "source": [
    "last_week_rank=driver.find_elements_by_xpath(\"//li[@class='c-label  a-font-primary-bold-l a-font-primary-m@mobile-max u-font-weight-normal@mobile-max lrv-u-padding-tb-050@mobile-max u-font-size-32@tablet']/span[1]\")\n",
    "\n",
    "\n",
    "for i in last_week_rank:\n",
    "    title=i.text\n",
    "    last_week_rank.append(title)"
   ]
  },
  {
   "cell_type": "code",
   "execution_count": 55,
   "id": "73c09a6f",
   "metadata": {
    "scrolled": true
   },
   "outputs": [
    {
     "name": "stderr",
     "output_type": "stream",
     "text": [
      "<ipython-input-55-cfd5d3501161>:1: DeprecationWarning: find_elements_by_* commands are deprecated. Please use find_elements() instead\n",
      "  peak_rank=driver.find_elements_by_xpath(\"//li[@class='c-label  a-font-primary-bold-l a-font-primary-m@mobile-max u-font-weight-normal@mobile-max lrv-u-padding-tb-050@mobile-max u-font-size-32@tablet']/span[1]\")\n"
     ]
    }
   ],
   "source": [
    "peak_rank=driver.find_elements_by_xpath(\"//li[@class='c-label  a-font-primary-bold-l a-font-primary-m@mobile-max u-font-weight-normal@mobile-max lrv-u-padding-tb-050@mobile-max u-font-size-32@tablet']/span[1]\")\n",
    "\n",
    "\n",
    "for i in peak_rank:\n",
    "    title=i.text\n",
    "    peak_rank.append(title)"
   ]
  },
  {
   "cell_type": "code",
   "execution_count": 56,
   "id": "7e26460a",
   "metadata": {},
   "outputs": [
    {
     "name": "stderr",
     "output_type": "stream",
     "text": [
      "<ipython-input-56-8d90b8a171ad>:1: DeprecationWarning: find_elements_by_* commands are deprecated. Please use find_elements() instead\n",
      "  week_of_board=driver.find_elements_by_xpath(\"//li[@class='c-label  a-font-primary-bold-l a-font-primary-m@mobile-max u-font-weight-normal@mobile-max lrv-u-padding-tb-050@mobile-max u-font-size-32@tablet']/span[1]\")\n"
     ]
    }
   ],
   "source": [
    "week_of_board=driver.find_elements_by_xpath(\"//li[@class='c-label  a-font-primary-bold-l a-font-primary-m@mobile-max u-font-weight-normal@mobile-max lrv-u-padding-tb-050@mobile-max u-font-size-32@tablet']/span[1]\")\n",
    "\n",
    "\n",
    "for i in week_of_board:\n",
    "    title=i.text\n",
    "    week_of_board.append(title)"
   ]
  },
  {
   "cell_type": "markdown",
   "id": "a0a892a8",
   "metadata": {},
   "source": [
    "Q7 Scrape the details of Data science recruiters from naukri.com.\n",
    "Url = https://www.naukri.com/\n",
    "You have to find the following details:\n",
    "A) Name\n",
    "B) Designation\n",
    "C) Company\n",
    "D) Skills they hire for\n",
    "E) Location"
   ]
  },
  {
   "cell_type": "code",
   "execution_count": 2,
   "id": "05a393c3",
   "metadata": {},
   "outputs": [],
   "source": [
    "from selenium import webdriver"
   ]
  },
  {
   "cell_type": "code",
   "execution_count": 3,
   "id": "0c59f331",
   "metadata": {},
   "outputs": [
    {
     "name": "stderr",
     "output_type": "stream",
     "text": [
      "<ipython-input-3-7534a47dd751>:1: DeprecationWarning: executable_path has been deprecated, please pass in a Service object\n",
      "  driver = webdriver.Chrome(r\"E:\\chromedriver_win32/chromedriver.exe\")\n",
      "<ipython-input-3-7534a47dd751>:4: DeprecationWarning: find_element_by_* commands are deprecated. Please use find_element() instead\n",
      "  search_job = driver.find_element_by_id('qsb-keyword-sugg')\n"
     ]
    }
   ],
   "source": [
    "driver = webdriver.Chrome(r\"E:\\chromedriver_win32/chromedriver.exe\")\n",
    "\n",
    "driver.get('https://www.naukri.com/')\n",
    "search_job = driver.find_element_by_id('qsb-keyword-sugg')\n",
    "search_job.send_keys(\"Data Scientist\")"
   ]
  },
  {
   "cell_type": "code",
   "execution_count": 4,
   "id": "76d38706",
   "metadata": {},
   "outputs": [
    {
     "name": "stderr",
     "output_type": "stream",
     "text": [
      "<ipython-input-4-547fdf4ad684>:1: DeprecationWarning: find_element_by_* commands are deprecated. Please use find_element() instead\n",
      "  search_btn = driver.find_element_by_xpath(\"//div[@class = 'search-btn']/button\")\n"
     ]
    }
   ],
   "source": [
    "search_btn = driver.find_element_by_xpath(\"//div[@class = 'search-btn']/button\")\n",
    "search_btn.click() "
   ]
  },
  {
   "cell_type": "code",
   "execution_count": 8,
   "id": "1e6ad68d",
   "metadata": {},
   "outputs": [],
   "source": [
    "name=[]\n",
    "Company_Names=[]\n",
    "designation_list=[]\n",
    "location_list=[]\n",
    "skills_list=[]"
   ]
  },
  {
   "cell_type": "code",
   "execution_count": 19,
   "id": "3eb519c5",
   "metadata": {},
   "outputs": [
    {
     "name": "stderr",
     "output_type": "stream",
     "text": [
      "<ipython-input-19-915244d2b69e>:1: DeprecationWarning: find_elements_by_* commands are deprecated. Please use find_elements() instead\n",
      "  name_tags=driver.find_elements_by_xpath(\"//a[@class='title fw500 ellipsis']\")\n"
     ]
    },
    {
     "ename": "AttributeError",
     "evalue": "'str' object has no attribute 'text'",
     "output_type": "error",
     "traceback": [
      "\u001b[1;31m---------------------------------------------------------------------------\u001b[0m",
      "\u001b[1;31mAttributeError\u001b[0m                            Traceback (most recent call last)",
      "\u001b[1;32m<ipython-input-19-915244d2b69e>\u001b[0m in \u001b[0;36m<module>\u001b[1;34m\u001b[0m\n\u001b[0;32m      3\u001b[0m \u001b[1;33m\u001b[0m\u001b[0m\n\u001b[0;32m      4\u001b[0m \u001b[1;32mfor\u001b[0m \u001b[0mi\u001b[0m \u001b[1;32min\u001b[0m \u001b[0mname_tags\u001b[0m\u001b[1;33m:\u001b[0m\u001b[1;33m\u001b[0m\u001b[1;33m\u001b[0m\u001b[0m\n\u001b[1;32m----> 5\u001b[1;33m     \u001b[0mname\u001b[0m\u001b[1;33m=\u001b[0m\u001b[0mi\u001b[0m\u001b[1;33m.\u001b[0m\u001b[0mtext\u001b[0m\u001b[1;33m\u001b[0m\u001b[1;33m\u001b[0m\u001b[0m\n\u001b[0m\u001b[0;32m      6\u001b[0m     \u001b[0mname_tags\u001b[0m\u001b[1;33m.\u001b[0m\u001b[0mappend\u001b[0m\u001b[1;33m(\u001b[0m\u001b[0mname\u001b[0m\u001b[1;33m)\u001b[0m\u001b[1;33m\u001b[0m\u001b[1;33m\u001b[0m\u001b[0m\n\u001b[0;32m      7\u001b[0m \u001b[0mname_tags\u001b[0m\u001b[1;33m[\u001b[0m\u001b[1;36m0\u001b[0m\u001b[1;33m:\u001b[0m\u001b[1;36m4\u001b[0m\u001b[1;33m]\u001b[0m\u001b[1;33m\u001b[0m\u001b[1;33m\u001b[0m\u001b[0m\n",
      "\u001b[1;31mAttributeError\u001b[0m: 'str' object has no attribute 'text'"
     ]
    }
   ],
   "source": [
    "name_tags=driver.find_elements_by_xpath(\"//a[@class='title fw500 ellipsis']\")\n",
    "name_tags[0:4]\n",
    "\n",
    "for i in name_tags:\n",
    "    name=i.text\n",
    "    name_tags.append(name)\n",
    "name_tags[0:4]"
   ]
  },
  {
   "cell_type": "code",
   "execution_count": 18,
   "id": "a6a9e20b",
   "metadata": {},
   "outputs": [
    {
     "name": "stderr",
     "output_type": "stream",
     "text": [
      "<ipython-input-18-7be09d812e83>:2: DeprecationWarning: find_elements_by_* commands are deprecated. Please use find_elements() instead\n",
      "  companies_tags=driver.find_elements_by_xpath(\"//a[@class='subTitle ellipsis fleft']\")\n"
     ]
    },
    {
     "ename": "AttributeError",
     "evalue": "'str' object has no attribute 'append'",
     "output_type": "error",
     "traceback": [
      "\u001b[1;31m---------------------------------------------------------------------------\u001b[0m",
      "\u001b[1;31mAttributeError\u001b[0m                            Traceback (most recent call last)",
      "\u001b[1;32m<ipython-input-18-7be09d812e83>\u001b[0m in \u001b[0;36m<module>\u001b[1;34m\u001b[0m\n\u001b[0;32m      5\u001b[0m \u001b[1;32mfor\u001b[0m \u001b[0mi\u001b[0m \u001b[1;32min\u001b[0m \u001b[0mcompanies_tags\u001b[0m\u001b[1;33m:\u001b[0m\u001b[1;33m\u001b[0m\u001b[1;33m\u001b[0m\u001b[0m\n\u001b[0;32m      6\u001b[0m     \u001b[0mcompany_name\u001b[0m\u001b[1;33m=\u001b[0m\u001b[0mi\u001b[0m\u001b[1;33m.\u001b[0m\u001b[0mtext\u001b[0m\u001b[1;33m\u001b[0m\u001b[1;33m\u001b[0m\u001b[0m\n\u001b[1;32m----> 7\u001b[1;33m     \u001b[0mcompany_name\u001b[0m\u001b[1;33m.\u001b[0m\u001b[0mappend\u001b[0m\u001b[1;33m(\u001b[0m\u001b[0mcompany_name\u001b[0m\u001b[1;33m)\u001b[0m\u001b[1;33m\u001b[0m\u001b[1;33m\u001b[0m\u001b[0m\n\u001b[0m\u001b[0;32m      8\u001b[0m \u001b[0mcompany_names\u001b[0m\u001b[1;33m[\u001b[0m\u001b[1;36m0\u001b[0m\u001b[1;33m:\u001b[0m\u001b[1;36m4\u001b[0m\u001b[1;33m]\u001b[0m\u001b[1;33m\u001b[0m\u001b[1;33m\u001b[0m\u001b[0m\n",
      "\u001b[1;31mAttributeError\u001b[0m: 'str' object has no attribute 'append'"
     ]
    }
   ],
   "source": [
    "#so lets extract all the tagshaving the company_name\n",
    "companies_tags=driver.find_elements_by_xpath(\"//a[@class='subTitle ellipsis fleft']\")\n",
    "companies_tags[0:4]\n",
    "\n",
    "for i in companies_tags:\n",
    "    company_name=i.text\n",
    "    company_name.append(company_name)\n",
    "company_names[0:4]"
   ]
  },
  {
   "cell_type": "code",
   "execution_count": 21,
   "id": "5e320c73",
   "metadata": {},
   "outputs": [
    {
     "name": "stderr",
     "output_type": "stream",
     "text": [
      "<ipython-input-21-c68d10e570c6>:1: DeprecationWarning: find_elements_by_* commands are deprecated. Please use find_elements() instead\n",
      "  designation=driver.find_elements_by_xpath(\"//a[@class='title fw500 ellipsis']\")\n"
     ]
    },
    {
     "ename": "NameError",
     "evalue": "name 'designation_tag' is not defined",
     "output_type": "error",
     "traceback": [
      "\u001b[1;31m---------------------------------------------------------------------------\u001b[0m",
      "\u001b[1;31mNameError\u001b[0m                                 Traceback (most recent call last)",
      "\u001b[1;32m<ipython-input-21-c68d10e570c6>\u001b[0m in \u001b[0;36m<module>\u001b[1;34m\u001b[0m\n\u001b[0;32m      4\u001b[0m \u001b[1;32mfor\u001b[0m \u001b[0mi\u001b[0m \u001b[1;32min\u001b[0m \u001b[0mdesignation\u001b[0m\u001b[1;33m:\u001b[0m\u001b[1;33m\u001b[0m\u001b[1;33m\u001b[0m\u001b[0m\n\u001b[0;32m      5\u001b[0m     \u001b[0mtitle\u001b[0m\u001b[1;33m=\u001b[0m\u001b[0mi\u001b[0m\u001b[1;33m.\u001b[0m\u001b[0mtext\u001b[0m\u001b[1;33m\u001b[0m\u001b[1;33m\u001b[0m\u001b[0m\n\u001b[1;32m----> 6\u001b[1;33m     \u001b[0mdesignation_tag\u001b[0m\u001b[1;33m.\u001b[0m\u001b[0mappend\u001b[0m\u001b[1;33m(\u001b[0m\u001b[0mtitle\u001b[0m\u001b[1;33m)\u001b[0m\u001b[1;33m\u001b[0m\u001b[1;33m\u001b[0m\u001b[0m\n\u001b[0m\u001b[0;32m      7\u001b[0m \u001b[0mdesignation\u001b[0m\u001b[1;33m[\u001b[0m\u001b[1;36m0\u001b[0m\u001b[1;33m:\u001b[0m\u001b[1;36m4\u001b[0m\u001b[1;33m]\u001b[0m\u001b[1;33m\u001b[0m\u001b[1;33m\u001b[0m\u001b[0m\n",
      "\u001b[1;31mNameError\u001b[0m: name 'designation_tag' is not defined"
     ]
    }
   ],
   "source": [
    "designation=driver.find_elements_by_xpath(\"//a[@class='title fw500 ellipsis']\")\n",
    "designation[0:4]\n",
    "\n",
    "for i in designation:\n",
    "    title=i.text\n",
    "    designation_tag.append(title)\n",
    "designation[0:4]"
   ]
  },
  {
   "cell_type": "code",
   "execution_count": 20,
   "id": "7d63f854",
   "metadata": {},
   "outputs": [
    {
     "name": "stderr",
     "output_type": "stream",
     "text": [
      "<ipython-input-20-be936a576e96>:1: DeprecationWarning: find_elements_by_* commands are deprecated. Please use find_elements() instead\n",
      "  skill=driver.find_elements_by_xpath(\"//li[@class='fleft fs12 grey-text lh16 dot']/span[1]\")\n"
     ]
    },
    {
     "data": {
      "text/plain": [
       "[]"
      ]
     },
     "execution_count": 20,
     "metadata": {},
     "output_type": "execute_result"
    }
   ],
   "source": [
    "skill=driver.find_elements_by_xpath(\"//li[@class='fleft fs12 grey-text lh16 dot']/span[1]\")\n",
    "designation[0:4]\n",
    "\n",
    "for i in skill:\n",
    "    title=i.text\n",
    "    skill_tag.append(title)\n",
    "skill[0:4]"
   ]
  },
  {
   "cell_type": "code",
   "execution_count": 22,
   "id": "6d8568ea",
   "metadata": {},
   "outputs": [
    {
     "name": "stderr",
     "output_type": "stream",
     "text": [
      "<ipython-input-22-8d1516b4372f>:1: DeprecationWarning: find_elements_by_* commands are deprecated. Please use find_elements() instead\n",
      "  skill=driver.find_elements_by_xpath(\"//li[@class='ellipsis fleft fs12 lh16']/span[1]\")\n"
     ]
    },
    {
     "data": {
      "text/plain": [
       "[]"
      ]
     },
     "execution_count": 22,
     "metadata": {},
     "output_type": "execute_result"
    }
   ],
   "source": [
    " \n",
    "skill=driver.find_elements_by_xpath(\"//li[@class='ellipsis fleft fs12 lh16']/span[1]\")\n",
    "designation[0:4]\n",
    "\n",
    "for i in skill:\n",
    "    title=i.text\n",
    "    skill_tag.append(title)\n",
    "skill[0:4]"
   ]
  },
  {
   "cell_type": "markdown",
   "id": "f40c7ee9",
   "metadata": {},
   "source": [
    "Q8 Scrape the details of Highest selling novels.\n",
    "Url = https://www.theguardian.com/news/datablog/2012/aug/09/best-selling-books-all-time-fifty-shades-greycompare/\n",
    "You have to find the following details:\n",
    "A) Book name\n",
    "B) Author name\n",
    "C) Volumes sold\n",
    "D) Publisher\n",
    "E) Genre"
   ]
  },
  {
   "cell_type": "markdown",
   "id": "d47a58ec",
   "metadata": {},
   "source": [
    "Sorry – we haven’t been able to serve the page you asked for.You may have followed an outdated link, or have mistyped a URL. If you believe this to be an error please report it."
   ]
  },
  {
   "cell_type": "markdown",
   "id": "c996eae0",
   "metadata": {},
   "source": [
    "Sorry – we haven’t been able to serve the page you asked for.You may have followed an outdated link, or have mistyped a URL. If you believe this to be an error please report it."
   ]
  },
  {
   "cell_type": "markdown",
   "id": "8254e5d0",
   "metadata": {},
   "source": [
    "Q9 Scrape the details most watched tv series of all time from imdb.com.\n",
    "Url = https://www.imdb.com/list/ls095964455/\n",
    "You have to find the following details:\n",
    "A) Name\n",
    "B) Year span\n",
    "C) Genre\n",
    "D) Run time\n",
    "E) Ratings\n",
    "F) Votes"
   ]
  },
  {
   "cell_type": "code",
   "execution_count": 23,
   "id": "3dee5383",
   "metadata": {},
   "outputs": [
    {
     "name": "stderr",
     "output_type": "stream",
     "text": [
      "<ipython-input-23-be30dcc1bab7>:1: DeprecationWarning: executable_path has been deprecated, please pass in a Service object\n",
      "  driver = webdriver.Chrome(r\"E:\\chromedriver_win32/chromedriver.exe\")\n"
     ]
    },
    {
     "ename": "NameError",
     "evalue": "name 'time' is not defined",
     "output_type": "error",
     "traceback": [
      "\u001b[1;31m---------------------------------------------------------------------------\u001b[0m",
      "\u001b[1;31mNameError\u001b[0m                                 Traceback (most recent call last)",
      "\u001b[1;32m<ipython-input-23-be30dcc1bab7>\u001b[0m in \u001b[0;36m<module>\u001b[1;34m\u001b[0m\n\u001b[0;32m      4\u001b[0m \u001b[0murl\u001b[0m \u001b[1;33m=\u001b[0m \u001b[1;34m'https://www.imdb.com/list/ls095964455/'\u001b[0m\u001b[1;33m\u001b[0m\u001b[1;33m\u001b[0m\u001b[0m\n\u001b[0;32m      5\u001b[0m \u001b[0mdriver\u001b[0m\u001b[1;33m.\u001b[0m\u001b[0mget\u001b[0m\u001b[1;33m(\u001b[0m\u001b[0murl\u001b[0m\u001b[1;33m)\u001b[0m\u001b[1;33m\u001b[0m\u001b[1;33m\u001b[0m\u001b[0m\n\u001b[1;32m----> 6\u001b[1;33m \u001b[0mtime\u001b[0m\u001b[1;33m.\u001b[0m\u001b[0msleep\u001b[0m\u001b[1;33m(\u001b[0m\u001b[1;36m6\u001b[0m\u001b[1;33m)\u001b[0m\u001b[1;33m\u001b[0m\u001b[1;33m\u001b[0m\u001b[0m\n\u001b[0m\u001b[0;32m      7\u001b[0m \u001b[1;33m\u001b[0m\u001b[0m\n\u001b[0;32m      8\u001b[0m \u001b[0mtime\u001b[0m\u001b[1;33m.\u001b[0m\u001b[0msleep\u001b[0m\u001b[1;33m(\u001b[0m\u001b[1;36m4\u001b[0m\u001b[1;33m)\u001b[0m\u001b[1;33m\u001b[0m\u001b[1;33m\u001b[0m\u001b[0m\n",
      "\u001b[1;31mNameError\u001b[0m: name 'time' is not defined"
     ]
    }
   ],
   "source": [
    "driver = webdriver.Chrome(r\"E:\\chromedriver_win32/chromedriver.exe\")\n",
    "driver.get('https://www.imdb.com/list/ls095964455/')\n",
    "\n",
    "url = 'https://www.imdb.com/list/ls095964455/'\n",
    "driver.get(url)\n",
    "time.sleep(6)\n",
    "\n",
    "time.sleep(4)\n",
    "name=[]\n",
    "year_span=[]\n",
    "genre=[]\n",
    "run_time=[]\n",
    "ratings=[]\n",
    "votes=[]"
   ]
  },
  {
   "cell_type": "code",
   "execution_count": 25,
   "id": "54b3d7bc",
   "metadata": {},
   "outputs": [
    {
     "name": "stderr",
     "output_type": "stream",
     "text": [
      "<ipython-input-25-d1c09b9b4af6>:1: DeprecationWarning: find_elements_by_* commands are deprecated. Please use find_elements() instead\n",
      "  name=driver.find_elements_by_xpath(\"//a[@class='title fw500 ellipsis']\")\n",
      "<ipython-input-25-d1c09b9b4af6>:4: DeprecationWarning: find_elements_by_* commands are deprecated. Please use find_elements() instead\n",
      "  titles=driver.find_elements_by_xpath(\"//a[@class='title fw500 ellipsis']\")\n"
     ]
    }
   ],
   "source": [
    "name=driver.find_elements_by_xpath(\"//a[@class='title fw500 ellipsis']\")\n",
    "name[0:4]\n",
    "\n",
    "titles=driver.find_elements_by_xpath(\"//a[@class='title fw500 ellipsis']\")\n",
    "for i in titles:\n",
    "    if i.text is None :\n",
    "        name.append(\"--\") \n",
    "    else:\n",
    "        name.append(i.text)\n",
    "\n"
   ]
  },
  {
   "cell_type": "code",
   "execution_count": 26,
   "id": "e83bf789",
   "metadata": {},
   "outputs": [
    {
     "name": "stderr",
     "output_type": "stream",
     "text": [
      "<ipython-input-26-1aa9444560b0>:1: DeprecationWarning: find_elements_by_* commands are deprecated. Please use find_elements() instead\n",
      "  year_span=driver.find_elements_by_xpath(\"//li[@class='lister-item-year text-muted unbold']/span[1]\")\n"
     ]
    }
   ],
   "source": [
    "year_span=driver.find_elements_by_xpath(\"//li[@class='lister-item-year text-muted unbold']/span[1]\")\n",
    "for i in year_span:\n",
    "    if i.text is None :\n",
    "        year_span.append(\"--\") \n",
    "    else:\n",
    "        year_span.append(i.text)"
   ]
  },
  {
   "cell_type": "code",
   "execution_count": 27,
   "id": "4d914bce",
   "metadata": {},
   "outputs": [
    {
     "name": "stderr",
     "output_type": "stream",
     "text": [
      "<ipython-input-27-15e2d616909b>:1: DeprecationWarning: find_elements_by_* commands are deprecated. Please use find_elements() instead\n",
      "  genre=driver.find_elements_by_xpath(\"//li[@class='text-muted text-small']/span[1]\")\n"
     ]
    }
   ],
   "source": [
    "genre=driver.find_elements_by_xpath(\"//li[@class='text-muted text-small']/span[1]\")\n",
    "for i in genre:\n",
    "    if i.text is None :\n",
    "        genre.append(\"--\") \n",
    "    else:\n",
    "        genre.append(i.text)"
   ]
  },
  {
   "cell_type": "code",
   "execution_count": 30,
   "id": "7a7d2037",
   "metadata": {},
   "outputs": [
    {
     "name": "stderr",
     "output_type": "stream",
     "text": [
      "<ipython-input-30-358ff006a25b>:1: DeprecationWarning: find_elements_by_* commands are deprecated. Please use find_elements() instead\n",
      "  run_time=driver.find_elements_by_xpath(\"//li[@class='runtime']/span[1]\")\n"
     ]
    }
   ],
   "source": [
    "run_time=driver.find_elements_by_xpath(\"//li[@class='runtime']/span[1]\")\n",
    "for i in run_time:\n",
    "    if i.text is None :\n",
    "        run_time.append(\"--\") \n",
    "    else:\n",
    "        run_time.append(i.text)"
   ]
  },
  {
   "cell_type": "code",
   "execution_count": 32,
   "id": "f2286d89",
   "metadata": {},
   "outputs": [
    {
     "name": "stderr",
     "output_type": "stream",
     "text": [
      "<ipython-input-32-19baf5ba3aa2>:1: DeprecationWarning: find_elements_by_* commands are deprecated. Please use find_elements() instead\n",
      "  ratings=driver.find_elements_by_xpath(\"//li[@class='ipl-rating-star__rating']/span[1]\")\n"
     ]
    }
   ],
   "source": [
    "ratings=driver.find_elements_by_xpath(\"//li[@class='ipl-rating-star__rating']/span[1]\")\n",
    "for i in ratings:\n",
    "    if i.text is None :\n",
    "        ratings.append(\"--\") \n",
    "    else:\n",
    "        ratings.append(i.text)"
   ]
  },
  {
   "cell_type": "code",
   "execution_count": 33,
   "id": "4fd68488",
   "metadata": {},
   "outputs": [
    {
     "name": "stderr",
     "output_type": "stream",
     "text": [
      "<ipython-input-33-0431ee4c9613>:1: DeprecationWarning: find_elements_by_* commands are deprecated. Please use find_elements() instead\n",
      "  votes=driver.find_elements_by_xpath(\"//li[@class='text-muted']/span[1]\")\n"
     ]
    }
   ],
   "source": [
    "votes=driver.find_elements_by_xpath(\"//li[@class='text-muted']/span[1]\")\n",
    "for i in votes:\n",
    "    if i.text is None :\n",
    "        votes.append(\"--\") \n",
    "    else:\n",
    "        votes.append(i.text)"
   ]
  },
  {
   "cell_type": "markdown",
   "id": "41a4565f",
   "metadata": {},
   "source": [
    "q10 Details of Datasets from UCI machine learning repositories.\n",
    "Url = https://archive.ics.uci.edu/\n",
    "You have to find the following details:\n",
    "A) Dataset name\n",
    "B) Data type\n",
    "C) Task\n",
    "D) Attribute type\n",
    "E) No of instances\n",
    "F) No of attribute\n",
    "G) Year"
   ]
  },
  {
   "cell_type": "code",
   "execution_count": 35,
   "id": "ba6b2f6f",
   "metadata": {},
   "outputs": [
    {
     "name": "stderr",
     "output_type": "stream",
     "text": [
      "<ipython-input-35-0f83db6cebba>:1: DeprecationWarning: executable_path has been deprecated, please pass in a Service object\n",
      "  driver = webdriver.Chrome(r\"E:\\chromedriver_win32/chromedriver.exe\")\n"
     ]
    }
   ],
   "source": [
    "driver = webdriver.Chrome(r\"E:\\chromedriver_win32/chromedriver.exe\")\n",
    "driver.get('https://archive.ics.uci.edu/')\n",
    "\n",
    "url = 'https://archive.ics.uci.edu/'\n",
    "driver.get(url)\n",
    "\n",
    "\n",
    "\n",
    "dataset_name=[]\n",
    "data_type=[]\n",
    "task=[]\n",
    "attribute_type=[]\n",
    "no_of_instance=[]\n",
    "no_of_atytribute=[]\n",
    "year=[]"
   ]
  },
  {
   "cell_type": "code",
   "execution_count": 36,
   "id": "56583461",
   "metadata": {},
   "outputs": [
    {
     "name": "stderr",
     "output_type": "stream",
     "text": [
      "<ipython-input-36-3ec92b5ae573>:1: DeprecationWarning: find_elements_by_* commands are deprecated. Please use find_elements() instead\n",
      "  dataset_name=driver.find_elements_by_xpath(\"//li[@class='normal']/span[1]\")\n"
     ]
    }
   ],
   "source": [
    "dataset_name=driver.find_elements_by_xpath(\"//li[@class='normal']/span[1]\")\n",
    "for i in dataset_name:\n",
    "    if i.text is None :\n",
    "        dataset_name.append(\"--\") \n",
    "    else:\n",
    "        dataset_name.append(i.text)"
   ]
  },
  {
   "cell_type": "code",
   "execution_count": 37,
   "id": "729f4fc3",
   "metadata": {},
   "outputs": [
    {
     "name": "stderr",
     "output_type": "stream",
     "text": [
      "<ipython-input-37-993a7149b72a>:1: DeprecationWarning: find_elements_by_* commands are deprecated. Please use find_elements() instead\n",
      "  dataset_type=driver.find_elements_by_xpath(\"//img[@class='assets/MLimages/SmallLargedefault']\")\n"
     ]
    }
   ],
   "source": [
    "dataset_type=driver.find_elements_by_xpath(\"//img[@class='assets/MLimages/SmallLargedefault']\")\n",
    "for i in dataset_type:\n",
    "    if i.text is None :\n",
    "        dataset_type.append(\"--\") \n",
    "    else:\n",
    "        dataset_type.append(i.text)"
   ]
  },
  {
   "cell_type": "code",
   "execution_count": 38,
   "id": "d65f49f8",
   "metadata": {},
   "outputs": [
    {
     "name": "stderr",
     "output_type": "stream",
     "text": [
      "<ipython-input-38-92f9d12d564e>:1: DeprecationWarning: find_elements_by_* commands are deprecated. Please use find_elements() instead\n",
      "  task=driver.find_elements_by_xpath(\"//b[@class=' Classification']\")\n"
     ]
    }
   ],
   "source": [
    "task=driver.find_elements_by_xpath(\"//b[@class=' Classification']\")\n",
    "for i in task:\n",
    "    if i.text is None :\n",
    "        task.append(\"--\") \n",
    "    else:\n",
    "        task.append(i.text)"
   ]
  },
  {
   "cell_type": "code",
   "execution_count": 39,
   "id": "60086f88",
   "metadata": {},
   "outputs": [
    {
     "name": "stderr",
     "output_type": "stream",
     "text": [
      "<ipython-input-39-cf33035fff66>:1: DeprecationWarning: find_elements_by_* commands are deprecated. Please use find_elements() instead\n",
      "  attribute_type=driver.find_elements_by_xpath(\"//b[@class='  Multivariate']\")\n"
     ]
    }
   ],
   "source": [
    "attribute_type=driver.find_elements_by_xpath(\"//b[@class='  Multivariate']\")\n",
    "for i in attribute_type:\n",
    "    if i.text is None :\n",
    "        attribute_type.append(\"--\") \n",
    "    else:\n",
    "        attribute_type.append(i.text)"
   ]
  },
  {
   "cell_type": "code",
   "execution_count": 40,
   "id": "9c8215a8",
   "metadata": {},
   "outputs": [
    {
     "name": "stderr",
     "output_type": "stream",
     "text": [
      "<ipython-input-40-f463856ed5b9>:1: DeprecationWarning: find_elements_by_* commands are deprecated. Please use find_elements() instead\n",
      "  no_of_instance=driver.find_elements_by_xpath(\"//b[@class='351']\")\n"
     ]
    }
   ],
   "source": [
    "no_of_instance=driver.find_elements_by_xpath(\"//b[@class='351']\")\n",
    "for i in no_of_instance:\n",
    "    if i.text is None :\n",
    "        no_of_instance.append(\"--\") \n",
    "    else:\n",
    "        no_of_instance.append(i.text)"
   ]
  },
  {
   "cell_type": "code",
   "execution_count": 41,
   "id": "d48e5031",
   "metadata": {},
   "outputs": [
    {
     "name": "stderr",
     "output_type": "stream",
     "text": [
      "<ipython-input-41-4234d63222dd>:1: DeprecationWarning: find_elements_by_* commands are deprecated. Please use find_elements() instead\n",
      "  no_of_atytribute=driver.find_elements_by_xpath(\"//b[@class='34']\")\n"
     ]
    }
   ],
   "source": [
    "no_of_atytribute=driver.find_elements_by_xpath(\"//b[@class='34']\")\n",
    "for i in no_of_atytribute:\n",
    "    if i.text is None :\n",
    "        no_of_atytribute.append(\"--\") \n",
    "    else:\n",
    "        no_of_atytribute.append(i.text)"
   ]
  },
  {
   "cell_type": "code",
   "execution_count": 42,
   "id": "c250f26e",
   "metadata": {},
   "outputs": [
    {
     "name": "stderr",
     "output_type": "stream",
     "text": [
      "<ipython-input-42-b319ebc1cc70>:1: DeprecationWarning: find_elements_by_* commands are deprecated. Please use find_elements() instead\n",
      "  year=driver.find_elements_by_xpath(\"//b[@class='06-05-2021:']\")\n"
     ]
    }
   ],
   "source": [
    "year=driver.find_elements_by_xpath(\"//b[@class='06-05-2021:']\")\n",
    "for i in year:\n",
    "    if i.text is None :\n",
    "        year.append(\"--\") \n",
    "    else:\n",
    "        year.append(i.text)"
   ]
  }
 ],
 "metadata": {
  "kernelspec": {
   "display_name": "Python 3",
   "language": "python",
   "name": "python3"
  },
  "language_info": {
   "codemirror_mode": {
    "name": "ipython",
    "version": 3
   },
   "file_extension": ".py",
   "mimetype": "text/x-python",
   "name": "python",
   "nbconvert_exporter": "python",
   "pygments_lexer": "ipython3",
   "version": "3.8.8"
  }
 },
 "nbformat": 4,
 "nbformat_minor": 5
}
